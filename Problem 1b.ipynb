{
 "cells": [
  {
   "cell_type": "code",
   "execution_count": 1,
   "id": "e9d06844",
   "metadata": {},
   "outputs": [],
   "source": [
    "import warnings\n",
    "from functools import lru_cache\n",
    "import numpy as np\n",
    "import pandas as pd\n",
    "import plotly.express as px\n",
    "import plotly.graph_objects as go\n",
    "from plotly.subplots import make_subplots\n",
    "from pynverse import inversefunc\n",
    "\n",
    "%matplotlib inline"
   ]
  },
  {
   "cell_type": "markdown",
   "id": "566292b4",
   "metadata": {},
   "source": [
    "> Discretize and numerically solve the Kuramoto–Sivashinsky equation, using the same parameters as [Vlachas et. al](https://doi.org/10.1016/j.neunet.2020.02.016), section 5.3. Option: Fourier transform. Solution should be similar to figure 14"
   ]
  },
  {
   "cell_type": "markdown",
   "id": "23cce3f0",
   "metadata": {},
   "source": [
    "![](images/kuramoto.png)"
   ]
  },
  {
   "cell_type": "code",
   "execution_count": null,
   "id": "0d4b6a7f",
   "metadata": {},
   "outputs": [],
   "source": []
  }
 ],
 "metadata": {
  "kernelspec": {
   "display_name": "Python 3 (ipykernel)",
   "language": "python",
   "name": "python3"
  },
  "language_info": {
   "codemirror_mode": {
    "name": "ipython",
    "version": 3
   },
   "file_extension": ".py",
   "mimetype": "text/x-python",
   "name": "python",
   "nbconvert_exporter": "python",
   "pygments_lexer": "ipython3",
   "version": "3.9.13"
  }
 },
 "nbformat": 4,
 "nbformat_minor": 5
}
