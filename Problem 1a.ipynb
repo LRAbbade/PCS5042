{
 "cells": [
  {
   "cell_type": "code",
   "execution_count": 45,
   "id": "ff220c5b",
   "metadata": {},
   "outputs": [],
   "source": [
    "import warnings\n",
    "from functools import lru_cache\n",
    "import numpy as np\n",
    "import pandas as pd\n",
    "import plotly.express as px\n",
    "import plotly.graph_objects as go\n",
    "from plotly.subplots import make_subplots\n",
    "from pynverse import inversefunc\n",
    "from scipy.optimize import brentq\n",
    "\n",
    "%matplotlib inline"
   ]
  },
  {
   "cell_type": "markdown",
   "id": "642bf2ee",
   "metadata": {},
   "source": [
    "> Replicate figure 3 in [Fuks and Tchelepi, 2020](https://doi.org/10.1615/JMachLearnModelComput.2020033905) using an analytical solution to the Buckley–Leverett equation, non-convex flux problem (equation 21)"
   ]
  },
  {
   "cell_type": "markdown",
   "id": "6d730bf9",
   "metadata": {},
   "source": [
    "<center>$\\Large fw(u)=\\frac{u^2}{u^2+\\frac{(1-u)^2}{M}}$</center>"
   ]
  },
  {
   "cell_type": "markdown",
   "id": "70de2564",
   "metadata": {},
   "source": [
    "![](images/equation_21.png)"
   ]
  },
  {
   "cell_type": "markdown",
   "id": "e7f027a6",
   "metadata": {},
   "source": [
    "$\\large u^{*}$ = shock location"
   ]
  },
  {
   "cell_type": "markdown",
   "id": "76e6c7b9",
   "metadata": {},
   "source": [
    "#### Rankine-Hugoniot Condition:\n",
    "\n",
    "<center>$\\Large f'w(u^{*})=\\frac{fw(u^{*}) - fw(u)_{u=0}}{u^{*} - u_{u=0}}$</center>"
   ]
  },
  {
   "cell_type": "markdown",
   "id": "1c5df82a",
   "metadata": {},
   "source": [
    "$\\large u(\\frac{x}{t}) = (f'w)^{-1} (\\frac{x}{t})$"
   ]
  },
  {
   "cell_type": "markdown",
   "id": "d31d1243",
   "metadata": {},
   "source": [
    "$\\large \\frac{x}{t}$ = similarity variable"
   ]
  },
  {
   "cell_type": "markdown",
   "id": "27f7f494",
   "metadata": {},
   "source": [
    "### Expected result:\n",
    "\n",
    "![](images/nonconvex_flow_results.png)"
   ]
  },
  {
   "cell_type": "code",
   "execution_count": 46,
   "id": "91de6530",
   "metadata": {},
   "outputs": [],
   "source": [
    "@lru_cache()\n",
    "def fw(u, M=1):\n",
    "    return u**2 / (u ** 2 + ((1 - u) ** 2 / M))"
   ]
  },
  {
   "cell_type": "code",
   "execution_count": 47,
   "id": "9c6d7caf",
   "metadata": {},
   "outputs": [],
   "source": [
    "df = pd.DataFrame(data={'u': np.linspace(0, 1, 101)})\n",
    "df['fw'] = df['u'].map(fw)"
   ]
  },
  {
   "cell_type": "code",
   "execution_count": 48,
   "id": "7f1cef1c",
   "metadata": {},
   "outputs": [],
   "source": [
    "px.line(df, x='u', y='fw', title='Non-convex flux').write_image('images/nonconvex_flux.png')"
   ]
  },
  {
   "cell_type": "markdown",
   "id": "3ef331be",
   "metadata": {},
   "source": [
    "![](images/nonconvex_flux.png)"
   ]
  },
  {
   "cell_type": "code",
   "execution_count": 49,
   "id": "89a94178",
   "metadata": {},
   "outputs": [],
   "source": [
    "# f'w = rankine hugoniot condition = rhc\n",
    "@lru_cache()\n",
    "def rhc(u):\n",
    "    return np.divide(fw(u) - fw(0), u)"
   ]
  },
  {
   "cell_type": "code",
   "execution_count": 50,
   "id": "1f3d3039",
   "metadata": {},
   "outputs": [
    {
     "name": "stderr",
     "output_type": "stream",
     "text": [
      "/var/folders/zc/zhbfk_hn05q0qbr8yp3_7t1w0000gn/T/ipykernel_14359/898125747.py:4: RuntimeWarning:\n",
      "\n",
      "invalid value encountered in true_divide\n",
      "\n"
     ]
    }
   ],
   "source": [
    "df['rhc'] = df['u'].map(rhc)"
   ]
  },
  {
   "cell_type": "code",
   "execution_count": 51,
   "id": "f7bc4b6e",
   "metadata": {},
   "outputs": [],
   "source": [
    "px.line(df, x='u', y='rhc', title='Rankine-Hugoniot Condition').write_image('images/rankine_hugoniot_cond.png')"
   ]
  },
  {
   "cell_type": "markdown",
   "id": "81bee883",
   "metadata": {},
   "source": [
    "![](images/rankine_hugoniot_cond.png)"
   ]
  },
  {
   "cell_type": "markdown",
   "id": "71f0c911",
   "metadata": {},
   "source": [
    "### Derivative of fw:\n",
    "<center>$\\large f'w=\\frac{\\partial}{\\partial u} \\frac{u^2}{u^2 + \\frac{(1 - u) ^ 2}{1}}$</center>\n",
    "<br>\n",
    "<center>$\\large f'w=\\frac{2u (1-u)}{(2u^2 - 2u + 1)^2}$</center>"
   ]
  },
  {
   "cell_type": "markdown",
   "id": "70636bc2",
   "metadata": {},
   "source": [
    "### Inverse of f'w\n",
    "<center>$\\large (f'w)^{-1} = \\frac{1}{2}\\lgroup 1 + \\sqrt{\\frac{-2u + \\sqrt{4u + 1} - 1}{u} + 1} \\rgroup$</center>"
   ]
  },
  {
   "cell_type": "code",
   "execution_count": 52,
   "id": "c33f09b7",
   "metadata": {},
   "outputs": [],
   "source": [
    "@lru_cache()\n",
    "def fw_deriv(u):\n",
    "    return np.divide(2 * u * (1 - u), (2 * u ** 2 - 2 * u + 1) ** 2)\n",
    "\n",
    "@lru_cache()\n",
    "def root_term(u):\n",
    "    return np.divide(-2*u + (4 * u + 1) ** (1/2) - 1, u) + 1\n",
    "\n",
    "@lru_cache()\n",
    "def inverse_fw_deriv(u):\n",
    "    return (1 + (root_term(u) ** (1/2))) / 2"
   ]
  },
  {
   "cell_type": "code",
   "execution_count": 53,
   "id": "c1a58d2e",
   "metadata": {},
   "outputs": [],
   "source": [
    "def u(x, t, u_star):\n",
    "    arg = x / t\n",
    "    if arg > fw_deriv(u_star):\n",
    "        return 0\n",
    "    elif fw_deriv(1) >= arg:\n",
    "        return 1\n",
    "    return inverse_fw_deriv(arg)"
   ]
  },
  {
   "cell_type": "code",
   "execution_count": 54,
   "id": "d83b3698",
   "metadata": {},
   "outputs": [
    {
     "name": "stdout",
     "output_type": "stream",
     "text": [
      "CPU times: user 8.97 s, sys: 29.3 ms, total: 9 s\n",
      "Wall time: 9 s\n"
     ]
    }
   ],
   "source": [
    "%%time\n",
    "# tried to make the rankine-hugoniot condition = fw_deriv to find out u*, found the two values below,\n",
    "# don't know if either of them is right, so I'll just plot them both\n",
    "\n",
    "u_star_1 = 0.2\n",
    "u_star_2 = 0.56\n",
    "with warnings.catch_warnings():\n",
    "    warnings.simplefilter('ignore')\n",
    "    res = pd.DataFrame()\n",
    "    for x in np.linspace(0, 1, 101):\n",
    "        for t in np.linspace(0, 1, 101):\n",
    "            res = pd.concat([res, pd.DataFrame(data={'u1': u(x, t, u_star_1), 'u2': u(x, t, u_star_2)},\n",
    "                                               index=pd.MultiIndex.from_arrays([[x], [t]], names=('x', 't')))])\n",
    "\n",
    "    res = res.reset_index()"
   ]
  },
  {
   "cell_type": "code",
   "execution_count": 55,
   "id": "be903896",
   "metadata": {},
   "outputs": [
    {
     "data": {
      "text/html": [
       "<div>\n",
       "<style scoped>\n",
       "    .dataframe tbody tr th:only-of-type {\n",
       "        vertical-align: middle;\n",
       "    }\n",
       "\n",
       "    .dataframe tbody tr th {\n",
       "        vertical-align: top;\n",
       "    }\n",
       "\n",
       "    .dataframe thead th {\n",
       "        text-align: right;\n",
       "    }\n",
       "</style>\n",
       "<table border=\"1\" class=\"dataframe\">\n",
       "  <thead>\n",
       "    <tr style=\"text-align: right;\">\n",
       "      <th></th>\n",
       "      <th>x</th>\n",
       "      <th>t</th>\n",
       "      <th>u1</th>\n",
       "      <th>u2</th>\n",
       "    </tr>\n",
       "  </thead>\n",
       "  <tbody>\n",
       "    <tr>\n",
       "      <th>1671</th>\n",
       "      <td>0.16</td>\n",
       "      <td>0.55</td>\n",
       "      <td>0.893327</td>\n",
       "      <td>0.893327</td>\n",
       "    </tr>\n",
       "    <tr>\n",
       "      <th>2210</th>\n",
       "      <td>0.21</td>\n",
       "      <td>0.89</td>\n",
       "      <td>0.909481</td>\n",
       "      <td>0.909481</td>\n",
       "    </tr>\n",
       "    <tr>\n",
       "      <th>4174</th>\n",
       "      <td>0.41</td>\n",
       "      <td>0.33</td>\n",
       "      <td>0.000000</td>\n",
       "      <td>0.701046</td>\n",
       "    </tr>\n",
       "    <tr>\n",
       "      <th>4283</th>\n",
       "      <td>0.42</td>\n",
       "      <td>0.41</td>\n",
       "      <td>0.000000</td>\n",
       "      <td>0.738658</td>\n",
       "    </tr>\n",
       "    <tr>\n",
       "      <th>5903</th>\n",
       "      <td>0.58</td>\n",
       "      <td>0.45</td>\n",
       "      <td>0.000000</td>\n",
       "      <td>0.693056</td>\n",
       "    </tr>\n",
       "    <tr>\n",
       "      <th>8414</th>\n",
       "      <td>0.83</td>\n",
       "      <td>0.31</td>\n",
       "      <td>0.000000</td>\n",
       "      <td>0.000000</td>\n",
       "    </tr>\n",
       "    <tr>\n",
       "      <th>8628</th>\n",
       "      <td>0.85</td>\n",
       "      <td>0.43</td>\n",
       "      <td>0.000000</td>\n",
       "      <td>0.000000</td>\n",
       "    </tr>\n",
       "    <tr>\n",
       "      <th>8930</th>\n",
       "      <td>0.88</td>\n",
       "      <td>0.42</td>\n",
       "      <td>0.000000</td>\n",
       "      <td>0.000000</td>\n",
       "    </tr>\n",
       "    <tr>\n",
       "      <th>9028</th>\n",
       "      <td>0.89</td>\n",
       "      <td>0.39</td>\n",
       "      <td>0.000000</td>\n",
       "      <td>0.000000</td>\n",
       "    </tr>\n",
       "    <tr>\n",
       "      <th>10049</th>\n",
       "      <td>0.99</td>\n",
       "      <td>0.50</td>\n",
       "      <td>0.000000</td>\n",
       "      <td>0.000000</td>\n",
       "    </tr>\n",
       "  </tbody>\n",
       "</table>\n",
       "</div>"
      ],
      "text/plain": [
       "          x     t        u1        u2\n",
       "1671   0.16  0.55  0.893327  0.893327\n",
       "2210   0.21  0.89  0.909481  0.909481\n",
       "4174   0.41  0.33  0.000000  0.701046\n",
       "4283   0.42  0.41  0.000000  0.738658\n",
       "5903   0.58  0.45  0.000000  0.693056\n",
       "8414   0.83  0.31  0.000000  0.000000\n",
       "8628   0.85  0.43  0.000000  0.000000\n",
       "8930   0.88  0.42  0.000000  0.000000\n",
       "9028   0.89  0.39  0.000000  0.000000\n",
       "10049  0.99  0.50  0.000000  0.000000"
      ]
     },
     "execution_count": 55,
     "metadata": {},
     "output_type": "execute_result"
    }
   ],
   "source": [
    "res.sample(10).sort_index()"
   ]
  },
  {
   "cell_type": "code",
   "execution_count": 56,
   "id": "c8ea093e",
   "metadata": {},
   "outputs": [],
   "source": [
    "fig = make_subplots(rows=1, cols=3)\n",
    "for i, t in enumerate([0.25, 0.5, 0.75]):\n",
    "    aux = res[res['t'] == t]\n",
    "    aux_fig = go.Scatter(x=aux['x'], y=aux['u1'], name=f'{t=}')\n",
    "    fig.update_yaxes(range=[0, 1])\n",
    "    fig.add_trace(aux_fig, row=1, col=i+1)\n",
    "\n",
    "fig.update_layout(height=600, width=1000, title_text=\"Non-convex solution for u* 1\")\n",
    "fig.write_image('images/non_convex_solution_ustart_1.png')"
   ]
  },
  {
   "cell_type": "markdown",
   "id": "6dedf867",
   "metadata": {},
   "source": [
    "![](images/non_convex_solution_ustart_1.png)"
   ]
  },
  {
   "cell_type": "code",
   "execution_count": 58,
   "id": "e6d403c8",
   "metadata": {},
   "outputs": [],
   "source": [
    "fig = make_subplots(rows=1, cols=3)\n",
    "for i, t in enumerate([0.25, 0.5, 0.75]):\n",
    "    aux = res[res['t'] == t]\n",
    "    aux_fig = go.Scatter(x=aux['x'], y=aux['u2'], name=f'{t=}')\n",
    "    fig.update_yaxes(range=[0, 1])\n",
    "    fig.add_trace(aux_fig, row=1, col=i+1)\n",
    "\n",
    "fig.update_layout(height=600, width=1000, title_text=\"Non-convex solution for u* 2\")\n",
    "fig.write_image('images/non_convex_solution_ustar_2.png')"
   ]
  },
  {
   "cell_type": "markdown",
   "id": "8057d54a",
   "metadata": {},
   "source": [
    "![](images/non_convex_solution_ustar_2.png)"
   ]
  },
  {
   "cell_type": "markdown",
   "id": "4427245d",
   "metadata": {},
   "source": [
    "neither u* picked is right, the answer seems to lie somewhere in the middle of them. Will try to reverse-engineer value of u*"
   ]
  },
  {
   "cell_type": "markdown",
   "id": "4c23544a",
   "metadata": {},
   "source": [
    "shock locations:\n",
    "    \n",
    "p/ t=0.25, x\\~=0.3<br>\n",
    "p/ t=0.50, x\\~= 0.6<br>\n",
    "p/ t=0.75, x\\~= 0.9"
   ]
  },
  {
   "cell_type": "markdown",
   "id": "3bb77cdb",
   "metadata": {},
   "source": [
    "<center>$\\large \\frac{x}{t} = \\frac{2u(1 - u)}{(2u^2 - 2u + 1)^2}$</center>"
   ]
  },
  {
   "cell_type": "markdown",
   "id": "59dd0590",
   "metadata": {},
   "source": [
    "<center>$\\large \\frac{0.6}{0.5} = \\frac{2u(1-u)}{(2u^2 - 2u + 1)^2}$</center>"
   ]
  },
  {
   "cell_type": "markdown",
   "id": "822730c3",
   "metadata": {},
   "source": [
    "<center>u = 0.29</center>\n",
    "<center>u = 0.7</center>"
   ]
  },
  {
   "cell_type": "code",
   "execution_count": 59,
   "id": "7b5817c4",
   "metadata": {},
   "outputs": [
    {
     "name": "stdout",
     "output_type": "stream",
     "text": [
      "CPU times: user 8.88 s, sys: 27.6 ms, total: 8.9 s\n",
      "Wall time: 8.91 s\n"
     ]
    }
   ],
   "source": [
    "%%time\n",
    "u_star_1 = 0.29\n",
    "u_star_2 = 0.7\n",
    "with warnings.catch_warnings():\n",
    "    warnings.simplefilter('ignore')\n",
    "    res = pd.DataFrame()\n",
    "    for x in np.linspace(0, 1, 101):\n",
    "        for t in np.linspace(0, 1, 101):\n",
    "            res = pd.concat([res, pd.DataFrame(data={'u1': u(x, t, u_star_1), 'u2': u(x, t, u_star_2)},\n",
    "                                               index=pd.MultiIndex.from_arrays([[x], [t]], names=('x', 't')))])\n",
    "\n",
    "    res = res.reset_index()"
   ]
  },
  {
   "cell_type": "code",
   "execution_count": 60,
   "id": "4a6a5aec",
   "metadata": {},
   "outputs": [
    {
     "data": {
      "text/html": [
       "<div>\n",
       "<style scoped>\n",
       "    .dataframe tbody tr th:only-of-type {\n",
       "        vertical-align: middle;\n",
       "    }\n",
       "\n",
       "    .dataframe tbody tr th {\n",
       "        vertical-align: top;\n",
       "    }\n",
       "\n",
       "    .dataframe thead th {\n",
       "        text-align: right;\n",
       "    }\n",
       "</style>\n",
       "<table border=\"1\" class=\"dataframe\">\n",
       "  <thead>\n",
       "    <tr style=\"text-align: right;\">\n",
       "      <th></th>\n",
       "      <th>x</th>\n",
       "      <th>t</th>\n",
       "      <th>u1</th>\n",
       "      <th>u2</th>\n",
       "    </tr>\n",
       "  </thead>\n",
       "  <tbody>\n",
       "    <tr>\n",
       "      <th>3330</th>\n",
       "      <td>0.32</td>\n",
       "      <td>0.98</td>\n",
       "      <td>0.883467</td>\n",
       "      <td>0.883467</td>\n",
       "    </tr>\n",
       "    <tr>\n",
       "      <th>3446</th>\n",
       "      <td>0.34</td>\n",
       "      <td>0.12</td>\n",
       "      <td>0.000000</td>\n",
       "      <td>0.000000</td>\n",
       "    </tr>\n",
       "    <tr>\n",
       "      <th>5626</th>\n",
       "      <td>0.55</td>\n",
       "      <td>0.71</td>\n",
       "      <td>0.783960</td>\n",
       "      <td>0.783960</td>\n",
       "    </tr>\n",
       "    <tr>\n",
       "      <th>5824</th>\n",
       "      <td>0.57</td>\n",
       "      <td>0.67</td>\n",
       "      <td>0.769731</td>\n",
       "      <td>0.769731</td>\n",
       "    </tr>\n",
       "    <tr>\n",
       "      <th>5880</th>\n",
       "      <td>0.58</td>\n",
       "      <td>0.22</td>\n",
       "      <td>0.000000</td>\n",
       "      <td>0.000000</td>\n",
       "    </tr>\n",
       "    <tr>\n",
       "      <th>6326</th>\n",
       "      <td>0.62</td>\n",
       "      <td>0.64</td>\n",
       "      <td>0.748448</td>\n",
       "      <td>0.748448</td>\n",
       "    </tr>\n",
       "    <tr>\n",
       "      <th>6346</th>\n",
       "      <td>0.62</td>\n",
       "      <td>0.84</td>\n",
       "      <td>0.790973</td>\n",
       "      <td>0.790973</td>\n",
       "    </tr>\n",
       "    <tr>\n",
       "      <th>6932</th>\n",
       "      <td>0.68</td>\n",
       "      <td>0.64</td>\n",
       "      <td>0.732018</td>\n",
       "      <td>0.732018</td>\n",
       "    </tr>\n",
       "    <tr>\n",
       "      <th>7119</th>\n",
       "      <td>0.70</td>\n",
       "      <td>0.49</td>\n",
       "      <td>0.000000</td>\n",
       "      <td>0.000000</td>\n",
       "    </tr>\n",
       "    <tr>\n",
       "      <th>7942</th>\n",
       "      <td>0.78</td>\n",
       "      <td>0.64</td>\n",
       "      <td>0.000000</td>\n",
       "      <td>0.705109</td>\n",
       "    </tr>\n",
       "  </tbody>\n",
       "</table>\n",
       "</div>"
      ],
      "text/plain": [
       "         x     t        u1        u2\n",
       "3330  0.32  0.98  0.883467  0.883467\n",
       "3446  0.34  0.12  0.000000  0.000000\n",
       "5626  0.55  0.71  0.783960  0.783960\n",
       "5824  0.57  0.67  0.769731  0.769731\n",
       "5880  0.58  0.22  0.000000  0.000000\n",
       "6326  0.62  0.64  0.748448  0.748448\n",
       "6346  0.62  0.84  0.790973  0.790973\n",
       "6932  0.68  0.64  0.732018  0.732018\n",
       "7119  0.70  0.49  0.000000  0.000000\n",
       "7942  0.78  0.64  0.000000  0.705109"
      ]
     },
     "execution_count": 60,
     "metadata": {},
     "output_type": "execute_result"
    }
   ],
   "source": [
    "res.sample(10).sort_index()"
   ]
  },
  {
   "cell_type": "code",
   "execution_count": 61,
   "id": "330d0a0c",
   "metadata": {},
   "outputs": [],
   "source": [
    "fig = make_subplots(rows=1, cols=3)\n",
    "for i, t in enumerate([0.25, 0.5, 0.75]):\n",
    "    aux = res[res['t'] == t]\n",
    "    aux_fig = go.Scatter(x=aux['x'], y=aux['u1'], name=f'{t=}')\n",
    "    fig.update_yaxes(range=[0, 1])\n",
    "    fig.add_trace(aux_fig, row=1, col=i+1)\n",
    "\n",
    "fig.update_layout(height=600, width=1000, title_text=\"Non-convex solution for u* 1\")\n",
    "fig.write_image('images/non_convex_solution_ustar_12.png')"
   ]
  },
  {
   "cell_type": "markdown",
   "id": "0911cec2",
   "metadata": {},
   "source": [
    "![](images/non_convex_solution_ustar_12.png)"
   ]
  },
  {
   "cell_type": "code",
   "execution_count": 63,
   "id": "54ae965e",
   "metadata": {},
   "outputs": [],
   "source": [
    "fig = make_subplots(rows=1, cols=3)\n",
    "for i, t in enumerate([0.25, 0.5, 0.75]):\n",
    "    aux = res[res['t'] == t]\n",
    "    aux_fig = go.Scatter(x=aux['x'], y=aux['u2'], name=f'{t=}')\n",
    "    fig.update_yaxes(range=[0, 1])\n",
    "    fig.add_trace(aux_fig, row=1, col=i+1)\n",
    "\n",
    "fig.update_layout(height=600, width=1000, title_text=\"Non-convex solution for u* 2\")\n",
    "fig.write_image('images/non_convex_solution_ustar_22.png')"
   ]
  },
  {
   "cell_type": "markdown",
   "id": "910d8f6b",
   "metadata": {},
   "source": [
    "![](images/non_convex_solution_ustar_22.png)"
   ]
  },
  {
   "cell_type": "code",
   "execution_count": 64,
   "id": "8d888f8a",
   "metadata": {},
   "outputs": [
    {
     "data": {
      "text/plain": [
       "Series([], dtype: float64)"
      ]
     },
     "execution_count": 64,
     "metadata": {},
     "output_type": "execute_result"
    }
   ],
   "source": [
    "aux = res['u1'] - res['u2']\n",
    "aux[aux > 0]"
   ]
  },
  {
   "cell_type": "markdown",
   "id": "45a59886",
   "metadata": {},
   "source": [
    "They are both the same and I don't know why, which is uneasing. But at least they fit figure 3 in [Fuks and Tchelepi, 2020](https://doi.org/10.1615/JMachLearnModelComput.2020033905)"
   ]
  },
  {
   "cell_type": "code",
   "execution_count": 65,
   "id": "4e0ad213",
   "metadata": {},
   "outputs": [],
   "source": [
    "x = res['x'].unique()\n",
    "y = res['t'].unique()\n",
    "z = res.pivot('x', 't', 'u1')"
   ]
  },
  {
   "cell_type": "code",
   "execution_count": 66,
   "id": "57b7cad8",
   "metadata": {
    "scrolled": false
   },
   "outputs": [],
   "source": [
    "fig = go.Figure(data=[go.Surface(x=x, y=y, z=z)])\n",
    "fig.update_layout(title='Non-convex flux without diffusion term')\n",
    "fig.write_image('images/non_convex_flux_without_diffusion_term_surface.png')"
   ]
  },
  {
   "cell_type": "markdown",
   "id": "67ef6e88",
   "metadata": {},
   "source": [
    "![](images/non_convex_flux_without_diffusion_term_surface.png)"
   ]
  },
  {
   "cell_type": "markdown",
   "id": "88e4ddf1",
   "metadata": {},
   "source": [
    "trying to fit u* using brentq, like suggested in class"
   ]
  },
  {
   "cell_type": "code",
   "execution_count": 67,
   "id": "d487ef68",
   "metadata": {},
   "outputs": [],
   "source": [
    "def fw_deriv_with_m(u, M):\n",
    "    return np.divide(-2 * M * (u - 1) * u,\n",
    "                     ((M + 1) * u ** 2 - 2 * u + 1) ** 2)\n",
    "\n",
    "\n",
    "def rhc(u, M):\n",
    "    return np.divide(fw(u, M) - fw_deriv_with_m(0, M), u) - \\\n",
    "           fw_deriv_with_m(u, M)"
   ]
  },
  {
   "cell_type": "code",
   "execution_count": 69,
   "id": "d057b7a6",
   "metadata": {},
   "outputs": [
    {
     "data": {
      "text/plain": [
       "'u_star=0.7071067811865476'"
      ]
     },
     "execution_count": 69,
     "metadata": {},
     "output_type": "execute_result"
    }
   ],
   "source": [
    "e = 1e-12\n",
    "M = 1\n",
    "u_star = brentq(rhc, e, 1 - e, args=(M))\n",
    "f'{u_star=}'"
   ]
  },
  {
   "cell_type": "markdown",
   "id": "88f108d6",
   "metadata": {},
   "source": [
    "pretty close to the 0.7 I got visually, but now I should get perfect results"
   ]
  },
  {
   "cell_type": "code",
   "execution_count": 70,
   "id": "3ebd4e87",
   "metadata": {},
   "outputs": [
    {
     "name": "stdout",
     "output_type": "stream",
     "text": [
      "CPU times: user 8.26 s, sys: 23 ms, total: 8.28 s\n",
      "Wall time: 8.28 s\n"
     ]
    }
   ],
   "source": [
    "%%time\n",
    "with warnings.catch_warnings():\n",
    "    warnings.simplefilter('ignore')\n",
    "    res = pd.DataFrame()\n",
    "    for x in np.linspace(0, 1, 101):\n",
    "        for t in np.linspace(0, 1, 101):\n",
    "            res = pd.concat([res, pd.DataFrame(data={'u': u(x, t, u_star)},\n",
    "                                               index=pd.MultiIndex.from_arrays([[x], [t]], names=('x', 't')))])\n",
    "\n",
    "    res = res.reset_index()"
   ]
  },
  {
   "cell_type": "code",
   "execution_count": 71,
   "id": "5993c478",
   "metadata": {},
   "outputs": [
    {
     "data": {
      "text/html": [
       "<div>\n",
       "<style scoped>\n",
       "    .dataframe tbody tr th:only-of-type {\n",
       "        vertical-align: middle;\n",
       "    }\n",
       "\n",
       "    .dataframe tbody tr th {\n",
       "        vertical-align: top;\n",
       "    }\n",
       "\n",
       "    .dataframe thead th {\n",
       "        text-align: right;\n",
       "    }\n",
       "</style>\n",
       "<table border=\"1\" class=\"dataframe\">\n",
       "  <thead>\n",
       "    <tr style=\"text-align: right;\">\n",
       "      <th></th>\n",
       "      <th>x</th>\n",
       "      <th>t</th>\n",
       "      <th>u</th>\n",
       "    </tr>\n",
       "  </thead>\n",
       "  <tbody>\n",
       "    <tr>\n",
       "      <th>771</th>\n",
       "      <td>0.07</td>\n",
       "      <td>0.64</td>\n",
       "      <td>0.952505</td>\n",
       "    </tr>\n",
       "    <tr>\n",
       "      <th>1514</th>\n",
       "      <td>0.14</td>\n",
       "      <td>1.00</td>\n",
       "      <td>0.941183</td>\n",
       "    </tr>\n",
       "    <tr>\n",
       "      <th>2795</th>\n",
       "      <td>0.27</td>\n",
       "      <td>0.68</td>\n",
       "      <td>0.865128</td>\n",
       "    </tr>\n",
       "    <tr>\n",
       "      <th>3464</th>\n",
       "      <td>0.34</td>\n",
       "      <td>0.30</td>\n",
       "      <td>0.719778</td>\n",
       "    </tr>\n",
       "    <tr>\n",
       "      <th>4968</th>\n",
       "      <td>0.49</td>\n",
       "      <td>0.19</td>\n",
       "      <td>0.000000</td>\n",
       "    </tr>\n",
       "    <tr>\n",
       "      <th>5015</th>\n",
       "      <td>0.49</td>\n",
       "      <td>0.66</td>\n",
       "      <td>0.790136</td>\n",
       "    </tr>\n",
       "    <tr>\n",
       "      <th>6312</th>\n",
       "      <td>0.62</td>\n",
       "      <td>0.50</td>\n",
       "      <td>0.000000</td>\n",
       "    </tr>\n",
       "    <tr>\n",
       "      <th>8505</th>\n",
       "      <td>0.84</td>\n",
       "      <td>0.21</td>\n",
       "      <td>0.000000</td>\n",
       "    </tr>\n",
       "    <tr>\n",
       "      <th>9762</th>\n",
       "      <td>0.96</td>\n",
       "      <td>0.66</td>\n",
       "      <td>0.000000</td>\n",
       "    </tr>\n",
       "    <tr>\n",
       "      <th>10076</th>\n",
       "      <td>0.99</td>\n",
       "      <td>0.77</td>\n",
       "      <td>0.000000</td>\n",
       "    </tr>\n",
       "  </tbody>\n",
       "</table>\n",
       "</div>"
      ],
      "text/plain": [
       "          x     t         u\n",
       "771    0.07  0.64  0.952505\n",
       "1514   0.14  1.00  0.941183\n",
       "2795   0.27  0.68  0.865128\n",
       "3464   0.34  0.30  0.719778\n",
       "4968   0.49  0.19  0.000000\n",
       "5015   0.49  0.66  0.790136\n",
       "6312   0.62  0.50  0.000000\n",
       "8505   0.84  0.21  0.000000\n",
       "9762   0.96  0.66  0.000000\n",
       "10076  0.99  0.77  0.000000"
      ]
     },
     "execution_count": 71,
     "metadata": {},
     "output_type": "execute_result"
    }
   ],
   "source": [
    "res.sample(10).sort_index()"
   ]
  },
  {
   "cell_type": "code",
   "execution_count": 72,
   "id": "782e829f",
   "metadata": {},
   "outputs": [],
   "source": [
    "res.to_parquet('Data/buckley_leverett.parquet')"
   ]
  },
  {
   "cell_type": "code",
   "execution_count": 73,
   "id": "c925a306",
   "metadata": {},
   "outputs": [],
   "source": [
    "fig = make_subplots(rows=1, cols=3)\n",
    "for i, t in enumerate([0.25, 0.5, 0.75]):\n",
    "    aux = res[res['t'] == t]\n",
    "    aux_fig = go.Scatter(x=aux['x'], y=aux['u'], name=f'{t=}')\n",
    "    fig.update_yaxes(range=[0, 1])\n",
    "    fig.add_trace(aux_fig, row=1, col=i+1)\n",
    "\n",
    "fig.update_layout(height=600, width=1000, title_text=\"Non-convex solution for correct u*\")\n",
    "fig.write_image('images/nonconvex_solution_correct_star.png')"
   ]
  },
  {
   "cell_type": "markdown",
   "id": "7aba1f1e",
   "metadata": {},
   "source": [
    "![](images/nonconvex_solution_correct_star.png)"
   ]
  },
  {
   "cell_type": "code",
   "execution_count": 74,
   "id": "837e161a",
   "metadata": {},
   "outputs": [],
   "source": [
    "x = res['x'].unique()\n",
    "y = res['t'].unique()\n",
    "z = res.pivot('x', 't', 'u')\n",
    "fig = go.Figure(data=[go.Surface(x=x, y=y, z=z)])\n",
    "fig.update_layout(title='Non-convex flux without diffusion term')\n",
    "fig.write_image('images/nonconvex_flux_without_diffusion_term_surface.png')"
   ]
  },
  {
   "cell_type": "markdown",
   "id": "d7a98207",
   "metadata": {},
   "source": [
    "![](images/nonconvex_flux_without_diffusion_term_surface.png)"
   ]
  }
 ],
 "metadata": {
  "kernelspec": {
   "display_name": "Python 3 (ipykernel)",
   "language": "python",
   "name": "python3"
  },
  "language_info": {
   "codemirror_mode": {
    "name": "ipython",
    "version": 3
   },
   "file_extension": ".py",
   "mimetype": "text/x-python",
   "name": "python",
   "nbconvert_exporter": "python",
   "pygments_lexer": "ipython3",
   "version": "3.9.13"
  }
 },
 "nbformat": 4,
 "nbformat_minor": 5
}
