{
 "cells": [
  {
   "cell_type": "markdown",
   "id": "5ef27afa",
   "metadata": {},
   "source": [
    "> Solve Buckley–Leverett using PINN"
   ]
  },
  {
   "cell_type": "markdown",
   "id": "de101450",
   "metadata": {},
   "source": [
    "<center>$\\Large fw(u)=\\frac{u^2}{u^2+\\frac{(1-u)^2}{M}}$</center>"
   ]
  },
  {
   "cell_type": "markdown",
   "id": "0038272a",
   "metadata": {},
   "source": [
    "Using the code by Alexandros Papados available in [github.com/alexpapados/Physics-Informed-Deep-Learning-Solid-and-Fluid-Mechanics](https://github.com/alexpapados/Physics-Informed-Deep-Learning-Solid-and-Fluid-Mechanics/blob/main/Buckley-Leverett-Problem/Buckley-Leverett.py)"
   ]
  },
  {
   "cell_type": "code",
   "execution_count": 2,
   "id": "7dbe46ba",
   "metadata": {},
   "outputs": [],
   "source": [
    "import torch\n",
    "import torch.nn as nn\n",
    "import numpy as np\n",
    "import pandas as pd\n",
    "import time\n",
    "import scipy.io\n",
    "import plotly.express as px\n",
    "import plotly.graph_objects as go\n",
    "from plotly.subplots import make_subplots\n",
    "\n",
    "%matplotlib inline\n",
    "\n",
    "torch.manual_seed(123456)\n",
    "np.random.seed(123456)"
   ]
  },
  {
   "cell_type": "code",
   "execution_count": 3,
   "id": "b16a4a82",
   "metadata": {},
   "outputs": [],
   "source": [
    "class DNN(nn.Module):\n",
    "    def __init__(self):\n",
    "        super(DNN, self).__init__()\n",
    "        self.net = nn.Sequential()                                                 # Define neural network\n",
    "        self.net.add_module('Linear_layer_1', nn.Linear(2, 30))                    # First linear layer\n",
    "        self.net.add_module('Tanh_layer_1', nn.Tanh())                             # First activation Layer\n",
    "\n",
    "        for num in range(2, 7):                                                    # Number of layers (2 through 7)\n",
    "            self.net.add_module('Linear_layer_%d' % (num), nn.Linear(30, 30))      # Linear layer\n",
    "            self.net.add_module('Tanh_layer_%d' % (num), nn.Tanh())                # Activation Layer\n",
    "        self.net.add_module('Linear_layer_final', nn.Linear(30, 1))                # Output Layer\n",
    "\n",
    "    def forward(self, x):\n",
    "        return self.net(x)\n",
    "\n",
    "    # Loss function for PDE\n",
    "    def loss_pde(self, x):\n",
    "        u = self.net(x)\n",
    "        # Gradients and partial derivatives\n",
    "        du_g = gradients(u, x)[0]                                  # Gradient [u_t, u_x]\n",
    "        u_t, u_x = du_g[:, :1], du_g[:, 1:]                        # Partial derivatives u_t, u_x\n",
    "        F = (u**2)/(4*(u**2) + (1-u)**2)\n",
    "        DF = gradients(F, x)[0]                                    # Gradient of flux DF\n",
    "        F_x = DF[:, 1:]                                            # Partial derivativEe of flux, F(u)_x\n",
    "\n",
    "        # Loss function for the Euler Equations\n",
    "        f = ((u_t + F_x)**2).mean()\n",
    "        return f\n",
    "\n",
    "    # Loss function for initial condition\n",
    "    def loss_ic(self, x_ic, u_ic):\n",
    "        y_ic = self.net(x_ic)                                      # Initial condition\n",
    "        u_ic_nn = y_ic[:, 0]\n",
    "\n",
    "        # Loss function for the initial condition\n",
    "        loss_ics = ((u_ic_nn - u_ic) ** 2).mean()\n",
    "        return loss_ics"
   ]
  },
  {
   "cell_type": "code",
   "execution_count": 4,
   "id": "49ad177c",
   "metadata": {},
   "outputs": [],
   "source": [
    "# Calculate gradients using torch.autograd.grad\n",
    "def gradients(outputs, inputs):\n",
    "    return torch.autograd.grad(outputs, inputs, grad_outputs=torch.ones_like(outputs), create_graph=True)\n",
    "\n",
    "# Convert torch tensor into np.array\n",
    "def to_numpy(input):\n",
    "    if isinstance(input, torch.Tensor):\n",
    "        return input.detach().cpu().numpy()\n",
    "    elif isinstance(input, np.ndarray):\n",
    "        return input\n",
    "    else:\n",
    "        raise TypeError('Unknown type of input, expected torch.Tensor or ' \\\n",
    "                        'np.ndarray, but got {}'.format(type(input)))\n",
    "\n",
    "# Initial conditions\n",
    "def IC(x):\n",
    "    N = len(x)\n",
    "    u_init = np.zeros((x.shape[0]))\n",
    "    for i in range(N):\n",
    "        if (-0.5 <= x[i] and x[i] <= 0):\n",
    "            u_init[i] = 1\n",
    "        else:\n",
    "            u_init[i] = 0\n",
    "    return u_init"
   ]
  },
  {
   "cell_type": "code",
   "execution_count": 39,
   "id": "ef363574",
   "metadata": {},
   "outputs": [],
   "source": [
    "def train(epoch, model):\n",
    "    model.train()\n",
    "    def closure():\n",
    "        optimizer.zero_grad()                                                     # Optimizer\n",
    "        loss_pde = model.loss_pde(x_int_train)                                    # Loss function of PDE\n",
    "        loss_ic = model.loss_ic(x_ic_train,u_ic_train)   # Loss function of IC\n",
    "        loss = 0.1*loss_pde + 10*loss_ic                                          # Total loss function G(theta)\n",
    "\n",
    "        # Print iteration, loss of PDE and ICs\n",
    "        if epoch % 1000 == 0:\n",
    "            print(f'epoch {epoch} loss_pde:{loss_pde:.8f}, loss_ic:{loss_ic:.8f}')\n",
    "\n",
    "        loss.backward()\n",
    "        return loss\n",
    "\n",
    "    # Optimize loss function\n",
    "    loss = optimizer.step(closure)\n",
    "    loss_value = loss.item() if not isinstance(loss, float) else loss\n",
    "    # Print total loss\n",
    "    if epoch % 1000 == 0:\n",
    "        print(f'epoch {epoch}: loss {loss_value:.6f}')\n",
    "    return loss_value"
   ]
  },
  {
   "cell_type": "code",
   "execution_count": 14,
   "id": "8255abea",
   "metadata": {},
   "outputs": [],
   "source": [
    "# Initialization\n",
    "device = torch.device('cpu')                                          # Run on CPU\n",
    "lr = 0.0005                                                           # Learning rate\n",
    "num_x = 1000                                                          # Number of points in t\n",
    "num_t = 1000                                                          # Number of points in x\n",
    "num_i_train = 1000                                                    # Random sampled points from IC\n",
    "epochs = 10000                                                        # Number of iterations\n",
    "num_f_train = 11000                                                   # Random sampled points in interior\n",
    "x = np.linspace(-2.625, 2.5,num_x)                                    # Partitioned spatial axis\n",
    "t = np.linspace(0, 1.5, num_t)                                        # Partitioned time axis\n",
    "t_grid, x_grid = np.meshgrid(t, x)                                    # (t,x) in [0,0.2]x[a,b]\n",
    "T = t_grid.flatten()[:, None]                                         # Vectorized t_grid\n",
    "X = x_grid.flatten()[:, None]                                         # Vectorized x_grid\n",
    "\n",
    "xs = np.linspace(-1, 1, num_x)                                         # Partitioned spatial axis\n",
    "ts = np.linspace(0, 1.5, num_t)                                       # Partitioned time axis\n",
    "ts_grid, xs_grid = np.meshgrid(ts, xs)                                # (t,x) in [0,0.2]x[a,b]\n",
    "Ts = ts_grid.flatten()[:, None]                                       # Vectorized t_grid\n",
    "Xs = xs_grid.flatten()[:, None]\n",
    "\n",
    "id_ic = np.random.choice(num_x, num_i_train, replace=False)           # Random sample numbering for IC\n",
    "id_f = np.random.choice(num_x*num_t, num_f_train, replace=False)      # Random sample numbering for interior\n",
    "\n",
    "x_ic = x_grid[id_ic, 0][:, None]                                      # Random x - initial condition\n",
    "t_ic = t_grid[id_ic, 0][:, None]                                      # random t - initial condition\n",
    "x_ic_train = np.hstack((t_ic, x_ic))                                  # Random (x,t) - vectorized\n",
    "u_ic_train = IC(x_ic)                       # Initial condition evaluated at random sample\n",
    "\n",
    "x_int = X[:, 0][id_f, None]                                           # Random x - interior\n",
    "t_int = T[:, 0][id_f, None]                                           # Random t - interior\n",
    "x_int_train = np.hstack((t_int, x_int))                               # Random (x,t) - vectorized\n",
    "x_test = np.hstack((Ts, Xs))                                          # Vectorized whole domai"
   ]
  },
  {
   "cell_type": "code",
   "execution_count": 15,
   "id": "58af613a",
   "metadata": {},
   "outputs": [],
   "source": [
    "# Generate tensors\n",
    "x_ic_train = torch.tensor(x_ic_train, dtype=torch.float32).to(device)\n",
    "x_int_train = torch.tensor(x_int_train, requires_grad=True, dtype=torch.float32).to(device)\n",
    "x_test = torch.tensor(x_test, dtype=torch.float32).to(device)\n",
    "\n",
    "u_ic_train = torch.tensor(u_ic_train, dtype=torch.float32).to(device)"
   ]
  },
  {
   "cell_type": "code",
   "execution_count": 16,
   "id": "198fa6bd",
   "metadata": {},
   "outputs": [
    {
     "name": "stdout",
     "output_type": "stream",
     "text": [
      "epoch 1000 loss_pde:0.11446005, loss_ic:0.00162144\n",
      "epoch 1000: loss 0.027660\n",
      "epoch 2000 loss_pde:0.05151062, loss_ic:0.00061292\n",
      "epoch 2000: loss 0.011280\n",
      "epoch 3000 loss_pde:0.03873724, loss_ic:0.00023005\n",
      "epoch 3000: loss 0.006174\n",
      "epoch 4000 loss_pde:0.03429297, loss_ic:0.00007947\n",
      "epoch 4000: loss 0.004224\n",
      "epoch 5000 loss_pde:0.03291442, loss_ic:0.00005588\n",
      "epoch 5000: loss 0.003850\n",
      "epoch 6000 loss_pde:0.03219775, loss_ic:0.00003908\n",
      "epoch 6000: loss 0.003611\n",
      "epoch 7000 loss_pde:0.03064250, loss_ic:0.00002886\n",
      "epoch 7000: loss 0.003353\n",
      "epoch 8000 loss_pde:0.02899260, loss_ic:0.00002256\n",
      "epoch 8000: loss 0.003125\n",
      "epoch 9000 loss_pde:0.02785664, loss_ic:0.00015531\n",
      "epoch 9000: loss 0.004339\n",
      "epoch 10000 loss_pde:0.03751867, loss_ic:0.00038231\n",
      "epoch 10000: loss 0.007575\n",
      "CPU times: user 10min 3s, sys: 2.61 s, total: 10min 6s\n",
      "Wall time: 10min 6s\n"
     ]
    }
   ],
   "source": [
    "%%time\n",
    "# Initialize neural network\n",
    "model = DNN().to(device)\n",
    "\n",
    "# Loss and optimizer\n",
    "optimizer = torch.optim.Adam(model.parameters(), lr=lr)\n",
    "\n",
    "loss = []\n",
    "for epoch in range(1, epochs+1):\n",
    "    loss.append(train(epoch, model))\n",
    "\n",
    "# Evaluate on the whole computational domain\n",
    "u_pred = to_numpy(model(x_test))"
   ]
  },
  {
   "cell_type": "code",
   "execution_count": 17,
   "id": "8df381a2",
   "metadata": {},
   "outputs": [],
   "source": [
    "data = pd.DataFrame(data={'t': [i[0] for i in x_test.numpy()], \n",
    "                          'x': [i[1] for i in x_test.numpy()], \n",
    "                          'u': u_pred.flatten()})"
   ]
  },
  {
   "cell_type": "code",
   "execution_count": 18,
   "id": "5c7b0b97",
   "metadata": {},
   "outputs": [],
   "source": [
    "sample = data.sample(1000).sort_values('t')"
   ]
  },
  {
   "cell_type": "code",
   "execution_count": 19,
   "id": "01c861f0",
   "metadata": {},
   "outputs": [
    {
     "data": {
      "text/html": [
       "<div>\n",
       "<style scoped>\n",
       "    .dataframe tbody tr th:only-of-type {\n",
       "        vertical-align: middle;\n",
       "    }\n",
       "\n",
       "    .dataframe tbody tr th {\n",
       "        vertical-align: top;\n",
       "    }\n",
       "\n",
       "    .dataframe thead th {\n",
       "        text-align: right;\n",
       "    }\n",
       "</style>\n",
       "<table border=\"1\" class=\"dataframe\">\n",
       "  <thead>\n",
       "    <tr style=\"text-align: right;\">\n",
       "      <th></th>\n",
       "      <th>t</th>\n",
       "      <th>x</th>\n",
       "      <th>u</th>\n",
       "    </tr>\n",
       "  </thead>\n",
       "  <tbody>\n",
       "    <tr>\n",
       "      <th>56954</th>\n",
       "      <td>1.432432</td>\n",
       "      <td>-0.887888</td>\n",
       "      <td>-0.043762</td>\n",
       "    </tr>\n",
       "    <tr>\n",
       "      <th>73816</th>\n",
       "      <td>1.225225</td>\n",
       "      <td>-0.853854</td>\n",
       "      <td>-0.040743</td>\n",
       "    </tr>\n",
       "    <tr>\n",
       "      <th>114168</th>\n",
       "      <td>0.252252</td>\n",
       "      <td>-0.771772</td>\n",
       "      <td>0.007677</td>\n",
       "    </tr>\n",
       "    <tr>\n",
       "      <th>453038</th>\n",
       "      <td>0.057057</td>\n",
       "      <td>-0.093093</td>\n",
       "      <td>0.981481</td>\n",
       "    </tr>\n",
       "    <tr>\n",
       "      <th>483499</th>\n",
       "      <td>0.749249</td>\n",
       "      <td>-0.033033</td>\n",
       "      <td>0.732623</td>\n",
       "    </tr>\n",
       "    <tr>\n",
       "      <th>540253</th>\n",
       "      <td>0.379880</td>\n",
       "      <td>0.081081</td>\n",
       "      <td>0.584699</td>\n",
       "    </tr>\n",
       "    <tr>\n",
       "      <th>609331</th>\n",
       "      <td>0.496997</td>\n",
       "      <td>0.219219</td>\n",
       "      <td>0.428126</td>\n",
       "    </tr>\n",
       "    <tr>\n",
       "      <th>796858</th>\n",
       "      <td>1.288288</td>\n",
       "      <td>0.593594</td>\n",
       "      <td>0.417783</td>\n",
       "    </tr>\n",
       "    <tr>\n",
       "      <th>854805</th>\n",
       "      <td>1.208709</td>\n",
       "      <td>0.709710</td>\n",
       "      <td>0.108795</td>\n",
       "    </tr>\n",
       "    <tr>\n",
       "      <th>875446</th>\n",
       "      <td>0.669670</td>\n",
       "      <td>0.751752</td>\n",
       "      <td>0.031863</td>\n",
       "    </tr>\n",
       "  </tbody>\n",
       "</table>\n",
       "</div>"
      ],
      "text/plain": [
       "               t         x         u\n",
       "56954   1.432432 -0.887888 -0.043762\n",
       "73816   1.225225 -0.853854 -0.040743\n",
       "114168  0.252252 -0.771772  0.007677\n",
       "453038  0.057057 -0.093093  0.981481\n",
       "483499  0.749249 -0.033033  0.732623\n",
       "540253  0.379880  0.081081  0.584699\n",
       "609331  0.496997  0.219219  0.428126\n",
       "796858  1.288288  0.593594  0.417783\n",
       "854805  1.208709  0.709710  0.108795\n",
       "875446  0.669670  0.751752  0.031863"
      ]
     },
     "execution_count": 19,
     "metadata": {},
     "output_type": "execute_result"
    }
   ],
   "source": [
    "sample.sample(10).sort_index()"
   ]
  },
  {
   "cell_type": "code",
   "execution_count": 20,
   "id": "ba72c988",
   "metadata": {},
   "outputs": [],
   "source": [
    "fig = go.Figure(data=[go.Surface(x=sample['x'], y=sample['t'], z=sample['u'])])\n",
    "# fig.update_layout(title='Non-convex flux without diffusion term')\n",
    "fig.write_image('images/nonconvex_flux_without_diffusion_term_problem_2.png')"
   ]
  },
  {
   "cell_type": "markdown",
   "id": "d3ccb8c6",
   "metadata": {},
   "source": [
    "![](images/nonconvex_flux_without_diffusion_term_problem_2.png)"
   ]
  },
  {
   "cell_type": "markdown",
   "id": "770b5a78",
   "metadata": {},
   "source": [
    "not sure why this isnt working, will try to get some slices from the data"
   ]
  },
  {
   "cell_type": "code",
   "execution_count": 21,
   "id": "52a88806",
   "metadata": {},
   "outputs": [],
   "source": [
    "def plot_ts(data, ts):\n",
    "    fig = make_subplots(rows=1, cols=3)\n",
    "    for i, t in enumerate(ts):\n",
    "        # I'll use a +-0.01 range as equal to my desired timestamp\n",
    "        start, end = t - 0.01, t + 0.01\n",
    "        aux = data[(data['t'] > start) & (data['t'] < end)]\n",
    "        aux_fig = go.Scatter(x=aux['x'], y=aux['u'], name=f'{t=}')\n",
    "        fig.update_yaxes(range=[0, 1])\n",
    "        fig.add_trace(aux_fig, row=1, col=i+1)\n",
    "\n",
    "    fig.update_layout(height=600, width=1000)\n",
    "    return fig"
   ]
  },
  {
   "cell_type": "code",
   "execution_count": 22,
   "id": "e26c01ac",
   "metadata": {},
   "outputs": [],
   "source": [
    "plot_ts(data, [0.25, 0.5, 0.75]).write_image('images/problem_2_solutions.png')"
   ]
  },
  {
   "cell_type": "markdown",
   "id": "cc4024c6",
   "metadata": {},
   "source": [
    "![](images/problem_2_solutions.png)"
   ]
  },
  {
   "cell_type": "code",
   "execution_count": 24,
   "id": "1f5444fa",
   "metadata": {},
   "outputs": [],
   "source": [
    "plot_ts(data, [0.5, 1, 1.5]).write_image('images/problem_2_solutions_2.png')"
   ]
  },
  {
   "cell_type": "markdown",
   "id": "9dba1119",
   "metadata": {},
   "source": [
    "![](images/problem_2_solutions_2.png)"
   ]
  },
  {
   "cell_type": "markdown",
   "id": "2c70db44",
   "metadata": {},
   "source": [
    "---"
   ]
  },
  {
   "cell_type": "markdown",
   "id": "452a94ac",
   "metadata": {},
   "source": [
    "I'll use the same trained model here on the data generated in 1a, it should work"
   ]
  },
  {
   "cell_type": "code",
   "execution_count": 31,
   "id": "465f95c3",
   "metadata": {},
   "outputs": [],
   "source": [
    "bl = pd.read_parquet('Data/buckley_leverett.parquet')\n",
    "x = torch.tensor(bl[['x', 't']].to_numpy(), dtype=torch.float32).to(device)\n",
    "bl['u_pred'] = model(x).detach().numpy()"
   ]
  },
  {
   "cell_type": "code",
   "execution_count": 32,
   "id": "79e96a47",
   "metadata": {},
   "outputs": [
    {
     "data": {
      "text/html": [
       "<div>\n",
       "<style scoped>\n",
       "    .dataframe tbody tr th:only-of-type {\n",
       "        vertical-align: middle;\n",
       "    }\n",
       "\n",
       "    .dataframe tbody tr th {\n",
       "        vertical-align: top;\n",
       "    }\n",
       "\n",
       "    .dataframe thead th {\n",
       "        text-align: right;\n",
       "    }\n",
       "</style>\n",
       "<table border=\"1\" class=\"dataframe\">\n",
       "  <thead>\n",
       "    <tr style=\"text-align: right;\">\n",
       "      <th></th>\n",
       "      <th>x</th>\n",
       "      <th>t</th>\n",
       "      <th>u</th>\n",
       "      <th>u_pred</th>\n",
       "    </tr>\n",
       "  </thead>\n",
       "  <tbody>\n",
       "    <tr>\n",
       "      <th>2513</th>\n",
       "      <td>0.24</td>\n",
       "      <td>0.89</td>\n",
       "      <td>0.899427</td>\n",
       "      <td>0.010766</td>\n",
       "    </tr>\n",
       "    <tr>\n",
       "      <th>3143</th>\n",
       "      <td>0.31</td>\n",
       "      <td>0.12</td>\n",
       "      <td>0.000000</td>\n",
       "      <td>0.456223</td>\n",
       "    </tr>\n",
       "    <tr>\n",
       "      <th>3632</th>\n",
       "      <td>0.35</td>\n",
       "      <td>0.97</td>\n",
       "      <td>0.874368</td>\n",
       "      <td>0.014433</td>\n",
       "    </tr>\n",
       "    <tr>\n",
       "      <th>3869</th>\n",
       "      <td>0.38</td>\n",
       "      <td>0.31</td>\n",
       "      <td>0.000000</td>\n",
       "      <td>0.060304</td>\n",
       "    </tr>\n",
       "    <tr>\n",
       "      <th>4757</th>\n",
       "      <td>0.47</td>\n",
       "      <td>0.10</td>\n",
       "      <td>0.000000</td>\n",
       "      <td>0.585297</td>\n",
       "    </tr>\n",
       "    <tr>\n",
       "      <th>5576</th>\n",
       "      <td>0.55</td>\n",
       "      <td>0.21</td>\n",
       "      <td>0.000000</td>\n",
       "      <td>0.459942</td>\n",
       "    </tr>\n",
       "    <tr>\n",
       "      <th>6034</th>\n",
       "      <td>0.59</td>\n",
       "      <td>0.75</td>\n",
       "      <td>0.781681</td>\n",
       "      <td>0.029466</td>\n",
       "    </tr>\n",
       "    <tr>\n",
       "      <th>6949</th>\n",
       "      <td>0.68</td>\n",
       "      <td>0.81</td>\n",
       "      <td>0.771804</td>\n",
       "      <td>0.030574</td>\n",
       "    </tr>\n",
       "    <tr>\n",
       "      <th>8641</th>\n",
       "      <td>0.85</td>\n",
       "      <td>0.56</td>\n",
       "      <td>0.000000</td>\n",
       "      <td>0.083996</td>\n",
       "    </tr>\n",
       "    <tr>\n",
       "      <th>9917</th>\n",
       "      <td>0.98</td>\n",
       "      <td>0.19</td>\n",
       "      <td>0.000000</td>\n",
       "      <td>0.598906</td>\n",
       "    </tr>\n",
       "  </tbody>\n",
       "</table>\n",
       "</div>"
      ],
      "text/plain": [
       "         x     t         u    u_pred\n",
       "2513  0.24  0.89  0.899427  0.010766\n",
       "3143  0.31  0.12  0.000000  0.456223\n",
       "3632  0.35  0.97  0.874368  0.014433\n",
       "3869  0.38  0.31  0.000000  0.060304\n",
       "4757  0.47  0.10  0.000000  0.585297\n",
       "5576  0.55  0.21  0.000000  0.459942\n",
       "6034  0.59  0.75  0.781681  0.029466\n",
       "6949  0.68  0.81  0.771804  0.030574\n",
       "8641  0.85  0.56  0.000000  0.083996\n",
       "9917  0.98  0.19  0.000000  0.598906"
      ]
     },
     "execution_count": 32,
     "metadata": {},
     "output_type": "execute_result"
    }
   ],
   "source": [
    "bl.sample(10).sort_index()"
   ]
  },
  {
   "cell_type": "code",
   "execution_count": 33,
   "id": "0740ae16",
   "metadata": {},
   "outputs": [],
   "source": [
    "def plot_ts_comp(df, t):\n",
    "    aux = df[df['t'] == t]\n",
    "    fig = go.Figure()\n",
    "    fig.update_yaxes(range=[0, 1])\n",
    "    fig.add_trace(go.Scatter(x=aux['x'], y=aux['u'], name='true'))\n",
    "    fig.add_trace(go.Scatter(x=aux['x'], y=aux['u_pred'], name='pred'))\n",
    "    return fig"
   ]
  },
  {
   "cell_type": "code",
   "execution_count": 34,
   "id": "35bcbca9",
   "metadata": {},
   "outputs": [],
   "source": [
    "plot_ts_comp(bl, 0.25).write_image('images/problem_2_solutions_3.png')"
   ]
  },
  {
   "cell_type": "markdown",
   "id": "eb69588f",
   "metadata": {},
   "source": [
    "![](images/problem_2_solutions_3.png)"
   ]
  },
  {
   "cell_type": "code",
   "execution_count": 35,
   "id": "4b4bb703",
   "metadata": {},
   "outputs": [],
   "source": [
    "plot_ts_comp(bl, 0.5).write_image('images/problem_2_solutions_4.png')"
   ]
  },
  {
   "cell_type": "markdown",
   "id": "6560c711",
   "metadata": {},
   "source": [
    "![](images/problem_2_solutions_4.png)"
   ]
  },
  {
   "cell_type": "code",
   "execution_count": 36,
   "id": "3f592930",
   "metadata": {},
   "outputs": [],
   "source": [
    "plot_ts_comp(bl, 0.75).write_image('images/problem_2_solutions_5.png')"
   ]
  },
  {
   "cell_type": "markdown",
   "id": "fbe4f3dd",
   "metadata": {},
   "source": [
    "![](images/problem_2_solutions_5.png)"
   ]
  },
  {
   "cell_type": "markdown",
   "id": "7c4efc21",
   "metadata": {},
   "source": [
    "this is very very wrong, probably because of the discontinuity, will add the diffusive term"
   ]
  },
  {
   "cell_type": "code",
   "execution_count": 37,
   "id": "7ec73813",
   "metadata": {},
   "outputs": [],
   "source": [
    "class BLWithDiffusion(DNN):\n",
    "    # Loss function for PDE\n",
    "    def loss_pde(self, x):\n",
    "        u = self.net(x)\n",
    "        # Gradients and partial derivatives\n",
    "        du_g = gradients(u, x)[0]                                  # Gradient [u_t, u_x]\n",
    "        u_t, u_x = du_g[:, :1], du_g[:, 1:]                        # Partial derivatives u_t, u_x\n",
    "        F = 1e-3 + (u**2)/(4*(u**2) + (1-u)**2)\n",
    "        DF = gradients(F, x)[0]                                    # Gradient of flux DF\n",
    "        F_x = DF[:, 1:]                                            # Partial derivativEe of flux, F(u)_x\n",
    "\n",
    "        # Loss function for the Euler Equations\n",
    "        f = ((u_t + F_x)**2).mean()\n",
    "        return f"
   ]
  },
  {
   "cell_type": "code",
   "execution_count": 40,
   "id": "9cf9f0c9",
   "metadata": {
    "scrolled": true
   },
   "outputs": [
    {
     "name": "stdout",
     "output_type": "stream",
     "text": [
      "epoch 1000 loss_pde:0.09838654, loss_ic:0.00172407\n",
      "epoch 1000: loss 0.027079\n",
      "epoch 2000 loss_pde:0.05089094, loss_ic:0.00060041\n",
      "epoch 2000: loss 0.011093\n",
      "epoch 3000 loss_pde:0.04008782, loss_ic:0.00016700\n",
      "epoch 3000: loss 0.005679\n",
      "epoch 4000 loss_pde:0.03461559, loss_ic:0.00035941\n",
      "epoch 4000: loss 0.007056\n",
      "epoch 5000 loss_pde:0.02638361, loss_ic:0.00005949\n",
      "epoch 5000: loss 0.003233\n",
      "epoch 6000 loss_pde:0.02241264, loss_ic:0.00006012\n",
      "epoch 6000: loss 0.002842\n",
      "epoch 7000 loss_pde:0.02257476, loss_ic:0.00002214\n",
      "epoch 7000: loss 0.002479\n",
      "epoch 8000 loss_pde:0.03521419, loss_ic:0.00040277\n",
      "epoch 8000: loss 0.007549\n",
      "epoch 9000 loss_pde:0.02473850, loss_ic:0.00013087\n",
      "epoch 9000: loss 0.003783\n",
      "epoch 10000 loss_pde:0.02164688, loss_ic:0.00003010\n",
      "epoch 10000: loss 0.002466\n",
      "epoch 11000 loss_pde:0.01715076, loss_ic:0.00000684\n",
      "epoch 11000: loss 0.001783\n",
      "epoch 12000 loss_pde:0.01574715, loss_ic:0.00001926\n",
      "epoch 12000: loss 0.001767\n",
      "epoch 13000 loss_pde:0.01414544, loss_ic:0.00000197\n",
      "epoch 13000: loss 0.001434\n",
      "epoch 14000 loss_pde:0.02114279, loss_ic:0.00002605\n",
      "epoch 14000: loss 0.002375\n",
      "epoch 15000 loss_pde:0.01708453, loss_ic:0.00000625\n",
      "epoch 15000: loss 0.001771\n",
      "epoch 16000 loss_pde:0.09156488, loss_ic:0.00347755\n",
      "epoch 16000: loss 0.043932\n",
      "epoch 17000 loss_pde:0.03759353, loss_ic:0.00041794\n",
      "epoch 17000: loss 0.007939\n",
      "epoch 18000 loss_pde:0.02739238, loss_ic:0.00013227\n",
      "epoch 18000: loss 0.004062\n",
      "epoch 19000 loss_pde:0.02164680, loss_ic:0.00004207\n",
      "epoch 19000: loss 0.002585\n",
      "epoch 20000 loss_pde:0.02287549, loss_ic:0.00001715\n",
      "epoch 20000: loss 0.002459\n",
      "CPU times: user 38min 52s, sys: 2min 32s, total: 41min 25s\n",
      "Wall time: 21min 12s\n"
     ]
    }
   ],
   "source": [
    "%%time\n",
    "epochs = 20000\n",
    "model = BLWithDiffusion().to(device)\n",
    "optimizer = torch.optim.Adam(model.parameters(), lr=lr)\n",
    "\n",
    "loss = []\n",
    "for epoch in range(1, epochs+1):\n",
    "    loss.append(train(epoch, model))\n",
    "\n",
    "u_pred = to_numpy(model(x_test))"
   ]
  },
  {
   "cell_type": "code",
   "execution_count": 47,
   "id": "186db2fd",
   "metadata": {},
   "outputs": [],
   "source": [
    "px.line(x=range(len(loss)), y=loss, title='NN loss per epoch').write_image('images/pinn_bl_loss.png')"
   ]
  },
  {
   "cell_type": "markdown",
   "id": "aa0a9680",
   "metadata": {},
   "source": [
    "![](images/pinn_bl_loss.png)"
   ]
  },
  {
   "cell_type": "markdown",
   "id": "0e038f1d",
   "metadata": {},
   "source": [
    "something is working, or the loss wouldn't be getting smaller"
   ]
  },
  {
   "cell_type": "code",
   "execution_count": 48,
   "id": "b0b5343c",
   "metadata": {},
   "outputs": [],
   "source": [
    "bl = pd.read_parquet('Data/buckley_leverett.parquet')\n",
    "x = torch.tensor(bl[['x', 't']].to_numpy(), dtype=torch.float32).to(device)\n",
    "bl['u_pred'] = model(x).detach().numpy()"
   ]
  },
  {
   "cell_type": "code",
   "execution_count": 43,
   "id": "f73f833e",
   "metadata": {},
   "outputs": [
    {
     "data": {
      "text/html": [
       "<div>\n",
       "<style scoped>\n",
       "    .dataframe tbody tr th:only-of-type {\n",
       "        vertical-align: middle;\n",
       "    }\n",
       "\n",
       "    .dataframe tbody tr th {\n",
       "        vertical-align: top;\n",
       "    }\n",
       "\n",
       "    .dataframe thead th {\n",
       "        text-align: right;\n",
       "    }\n",
       "</style>\n",
       "<table border=\"1\" class=\"dataframe\">\n",
       "  <thead>\n",
       "    <tr style=\"text-align: right;\">\n",
       "      <th></th>\n",
       "      <th>x</th>\n",
       "      <th>t</th>\n",
       "      <th>u</th>\n",
       "      <th>u_pred</th>\n",
       "    </tr>\n",
       "  </thead>\n",
       "  <tbody>\n",
       "    <tr>\n",
       "      <th>114</th>\n",
       "      <td>0.01</td>\n",
       "      <td>0.13</td>\n",
       "      <td>0.965314</td>\n",
       "      <td>-0.001125</td>\n",
       "    </tr>\n",
       "    <tr>\n",
       "      <th>1984</th>\n",
       "      <td>0.19</td>\n",
       "      <td>0.65</td>\n",
       "      <td>0.892931</td>\n",
       "      <td>0.000740</td>\n",
       "    </tr>\n",
       "    <tr>\n",
       "      <th>2016</th>\n",
       "      <td>0.19</td>\n",
       "      <td>0.97</td>\n",
       "      <td>0.922111</td>\n",
       "      <td>0.000690</td>\n",
       "    </tr>\n",
       "    <tr>\n",
       "      <th>3871</th>\n",
       "      <td>0.38</td>\n",
       "      <td>0.33</td>\n",
       "      <td>0.716651</td>\n",
       "      <td>0.050713</td>\n",
       "    </tr>\n",
       "    <tr>\n",
       "      <th>4501</th>\n",
       "      <td>0.44</td>\n",
       "      <td>0.57</td>\n",
       "      <td>0.784477</td>\n",
       "      <td>0.006850</td>\n",
       "    </tr>\n",
       "    <tr>\n",
       "      <th>4689</th>\n",
       "      <td>0.46</td>\n",
       "      <td>0.43</td>\n",
       "      <td>0.730757</td>\n",
       "      <td>0.037243</td>\n",
       "    </tr>\n",
       "    <tr>\n",
       "      <th>5308</th>\n",
       "      <td>0.52</td>\n",
       "      <td>0.56</td>\n",
       "      <td>0.755605</td>\n",
       "      <td>0.015162</td>\n",
       "    </tr>\n",
       "    <tr>\n",
       "      <th>6505</th>\n",
       "      <td>0.64</td>\n",
       "      <td>0.41</td>\n",
       "      <td>0.000000</td>\n",
       "      <td>0.087126</td>\n",
       "    </tr>\n",
       "    <tr>\n",
       "      <th>8240</th>\n",
       "      <td>0.81</td>\n",
       "      <td>0.59</td>\n",
       "      <td>0.000000</td>\n",
       "      <td>0.056311</td>\n",
       "    </tr>\n",
       "    <tr>\n",
       "      <th>9574</th>\n",
       "      <td>0.94</td>\n",
       "      <td>0.80</td>\n",
       "      <td>0.712617</td>\n",
       "      <td>0.029995</td>\n",
       "    </tr>\n",
       "  </tbody>\n",
       "</table>\n",
       "</div>"
      ],
      "text/plain": [
       "         x     t         u    u_pred\n",
       "114   0.01  0.13  0.965314 -0.001125\n",
       "1984  0.19  0.65  0.892931  0.000740\n",
       "2016  0.19  0.97  0.922111  0.000690\n",
       "3871  0.38  0.33  0.716651  0.050713\n",
       "4501  0.44  0.57  0.784477  0.006850\n",
       "4689  0.46  0.43  0.730757  0.037243\n",
       "5308  0.52  0.56  0.755605  0.015162\n",
       "6505  0.64  0.41  0.000000  0.087126\n",
       "8240  0.81  0.59  0.000000  0.056311\n",
       "9574  0.94  0.80  0.712617  0.029995"
      ]
     },
     "execution_count": 43,
     "metadata": {},
     "output_type": "execute_result"
    }
   ],
   "source": [
    "bl.sample(10).sort_index()"
   ]
  },
  {
   "cell_type": "code",
   "execution_count": 44,
   "id": "7d8cb0ac",
   "metadata": {},
   "outputs": [],
   "source": [
    "plot_ts_comp(bl, 0.25).write_image('images/problem_2_solutions_6.png')"
   ]
  },
  {
   "cell_type": "markdown",
   "id": "bbb1c3aa",
   "metadata": {},
   "source": [
    "![](images/problem_2_solutions_6.png)"
   ]
  },
  {
   "cell_type": "code",
   "execution_count": 45,
   "id": "22e62ac9",
   "metadata": {},
   "outputs": [],
   "source": [
    "plot_ts_comp(bl, 0.5).write_image('images/problem_2_solutions_7.png')"
   ]
  },
  {
   "cell_type": "markdown",
   "id": "f05f4d79",
   "metadata": {},
   "source": [
    "![](images/problem_2_solutions_7.png)"
   ]
  },
  {
   "cell_type": "code",
   "execution_count": 46,
   "id": "5a93cb79",
   "metadata": {},
   "outputs": [],
   "source": [
    "plot_ts_comp(bl, 0.75).write_image('images/problem_2_solutions_8.png')"
   ]
  },
  {
   "cell_type": "markdown",
   "id": "db513fa9",
   "metadata": {},
   "source": [
    "![](images/problem_2_solutions_8.png)"
   ]
  },
  {
   "cell_type": "markdown",
   "id": "0a1413ba",
   "metadata": {},
   "source": [
    "same thing, something is wrong"
   ]
  },
  {
   "cell_type": "markdown",
   "id": "10aa1883",
   "metadata": {},
   "source": [
    "---"
   ]
  },
  {
   "cell_type": "markdown",
   "id": "10853201",
   "metadata": {},
   "source": [
    "I'll try a different approach, sklearn MLP optimized with Optuna, I'm more familiar with the libs"
   ]
  },
  {
   "cell_type": "code",
   "execution_count": 74,
   "id": "1233477f",
   "metadata": {},
   "outputs": [],
   "source": [
    "from sklearn.neural_network import MLPRegressor\n",
    "from sklearn.model_selection import train_test_split\n",
    "from sklearn.metrics import mean_squared_error\n",
    "import optuna"
   ]
  },
  {
   "cell_type": "code",
   "execution_count": 55,
   "id": "a6f03568",
   "metadata": {},
   "outputs": [],
   "source": [
    "bl = pd.read_parquet('Data/buckley_leverett.parquet').dropna()"
   ]
  },
  {
   "cell_type": "code",
   "execution_count": 59,
   "id": "0c2c32a7",
   "metadata": {},
   "outputs": [],
   "source": [
    "X = bl[['x', 't']]\n",
    "y = bl[['u']]"
   ]
  },
  {
   "cell_type": "code",
   "execution_count": 62,
   "id": "ec569dd3",
   "metadata": {},
   "outputs": [],
   "source": [
    "X_train, X_test, y_train, y_test = train_test_split(X, y, random_state=42)"
   ]
  },
  {
   "cell_type": "code",
   "execution_count": 68,
   "id": "4e1a4be6",
   "metadata": {},
   "outputs": [],
   "source": [
    "# same parameters as the ones used in torch before, for testing\n",
    "model = MLPRegressor(hidden_layer_sizes=tuple([30] * 7), activation='tanh')"
   ]
  },
  {
   "cell_type": "code",
   "execution_count": 69,
   "id": "540aef44",
   "metadata": {},
   "outputs": [
    {
     "name": "stderr",
     "output_type": "stream",
     "text": [
      "/Users/lucasabbade/opt/anaconda3/lib/python3.9/site-packages/sklearn/neural_network/_multilayer_perceptron.py:1599: DataConversionWarning:\n",
      "\n",
      "A column-vector y was passed when a 1d array was expected. Please change the shape of y to (n_samples, ), for example using ravel().\n",
      "\n"
     ]
    },
    {
     "data": {
      "text/plain": [
       "MLPRegressor(activation='tanh', hidden_layer_sizes=(30, 30, 30, 30, 30, 30, 30))"
      ]
     },
     "execution_count": 69,
     "metadata": {},
     "output_type": "execute_result"
    }
   ],
   "source": [
    "model.fit(X_train, y_train)"
   ]
  },
  {
   "cell_type": "code",
   "execution_count": 71,
   "id": "7db4bc98",
   "metadata": {},
   "outputs": [],
   "source": [
    "y_pred = model.predict(X_test)"
   ]
  },
  {
   "cell_type": "code",
   "execution_count": 83,
   "id": "377134f9",
   "metadata": {},
   "outputs": [],
   "source": [
    "def rmse(y_test, y_pred):\n",
    "    return mean_squared_error(y_test, y_pred) ** 0.5"
   ]
  },
  {
   "cell_type": "code",
   "execution_count": 84,
   "id": "442361f0",
   "metadata": {},
   "outputs": [
    {
     "data": {
      "text/plain": [
       "'RMSE = 0.039578'"
      ]
     },
     "execution_count": 84,
     "metadata": {},
     "output_type": "execute_result"
    }
   ],
   "source": [
    "f'RMSE = {rmse(y_test[\"u\"], y_pred):.6f}'"
   ]
  },
  {
   "cell_type": "code",
   "execution_count": 95,
   "id": "1526f739",
   "metadata": {},
   "outputs": [],
   "source": [
    "bl['u_pred'] = model.predict(X)"
   ]
  },
  {
   "cell_type": "code",
   "execution_count": 96,
   "id": "ab4157cb",
   "metadata": {},
   "outputs": [
    {
     "data": {
      "text/html": [
       "<div>\n",
       "<style scoped>\n",
       "    .dataframe tbody tr th:only-of-type {\n",
       "        vertical-align: middle;\n",
       "    }\n",
       "\n",
       "    .dataframe tbody tr th {\n",
       "        vertical-align: top;\n",
       "    }\n",
       "\n",
       "    .dataframe thead th {\n",
       "        text-align: right;\n",
       "    }\n",
       "</style>\n",
       "<table border=\"1\" class=\"dataframe\">\n",
       "  <thead>\n",
       "    <tr style=\"text-align: right;\">\n",
       "      <th></th>\n",
       "      <th>x</th>\n",
       "      <th>t</th>\n",
       "      <th>u</th>\n",
       "      <th>u_pred</th>\n",
       "    </tr>\n",
       "  </thead>\n",
       "  <tbody>\n",
       "    <tr>\n",
       "      <th>1</th>\n",
       "      <td>0.0</td>\n",
       "      <td>0.01</td>\n",
       "      <td>1.000000</td>\n",
       "      <td>0.774899</td>\n",
       "    </tr>\n",
       "    <tr>\n",
       "      <th>2</th>\n",
       "      <td>0.0</td>\n",
       "      <td>0.02</td>\n",
       "      <td>1.000000</td>\n",
       "      <td>0.824647</td>\n",
       "    </tr>\n",
       "    <tr>\n",
       "      <th>3</th>\n",
       "      <td>0.0</td>\n",
       "      <td>0.03</td>\n",
       "      <td>1.000000</td>\n",
       "      <td>0.830117</td>\n",
       "    </tr>\n",
       "    <tr>\n",
       "      <th>4</th>\n",
       "      <td>0.0</td>\n",
       "      <td>0.04</td>\n",
       "      <td>1.000000</td>\n",
       "      <td>0.834763</td>\n",
       "    </tr>\n",
       "    <tr>\n",
       "      <th>5</th>\n",
       "      <td>0.0</td>\n",
       "      <td>0.05</td>\n",
       "      <td>1.000000</td>\n",
       "      <td>0.841274</td>\n",
       "    </tr>\n",
       "    <tr>\n",
       "      <th>...</th>\n",
       "      <td>...</td>\n",
       "      <td>...</td>\n",
       "      <td>...</td>\n",
       "      <td>...</td>\n",
       "    </tr>\n",
       "    <tr>\n",
       "      <th>10196</th>\n",
       "      <td>1.0</td>\n",
       "      <td>0.96</td>\n",
       "      <td>0.735642</td>\n",
       "      <td>0.740366</td>\n",
       "    </tr>\n",
       "    <tr>\n",
       "      <th>10197</th>\n",
       "      <td>1.0</td>\n",
       "      <td>0.97</td>\n",
       "      <td>0.737516</td>\n",
       "      <td>0.743553</td>\n",
       "    </tr>\n",
       "    <tr>\n",
       "      <th>10198</th>\n",
       "      <td>1.0</td>\n",
       "      <td>0.98</td>\n",
       "      <td>0.739355</td>\n",
       "      <td>0.746105</td>\n",
       "    </tr>\n",
       "    <tr>\n",
       "      <th>10199</th>\n",
       "      <td>1.0</td>\n",
       "      <td>0.99</td>\n",
       "      <td>0.741161</td>\n",
       "      <td>0.748100</td>\n",
       "    </tr>\n",
       "    <tr>\n",
       "      <th>10200</th>\n",
       "      <td>1.0</td>\n",
       "      <td>1.00</td>\n",
       "      <td>0.742934</td>\n",
       "      <td>0.749621</td>\n",
       "    </tr>\n",
       "  </tbody>\n",
       "</table>\n",
       "<p>10200 rows × 4 columns</p>\n",
       "</div>"
      ],
      "text/plain": [
       "         x     t         u    u_pred\n",
       "1      0.0  0.01  1.000000  0.774899\n",
       "2      0.0  0.02  1.000000  0.824647\n",
       "3      0.0  0.03  1.000000  0.830117\n",
       "4      0.0  0.04  1.000000  0.834763\n",
       "5      0.0  0.05  1.000000  0.841274\n",
       "...    ...   ...       ...       ...\n",
       "10196  1.0  0.96  0.735642  0.740366\n",
       "10197  1.0  0.97  0.737516  0.743553\n",
       "10198  1.0  0.98  0.739355  0.746105\n",
       "10199  1.0  0.99  0.741161  0.748100\n",
       "10200  1.0  1.00  0.742934  0.749621\n",
       "\n",
       "[10200 rows x 4 columns]"
      ]
     },
     "execution_count": 96,
     "metadata": {},
     "output_type": "execute_result"
    }
   ],
   "source": [
    "bl"
   ]
  },
  {
   "cell_type": "code",
   "execution_count": 97,
   "id": "212a7cc7",
   "metadata": {},
   "outputs": [],
   "source": [
    "plot_ts_comp(bl, 0.25).write_image('images/problem_2_solutions_9.png')"
   ]
  },
  {
   "cell_type": "markdown",
   "id": "e63dd866",
   "metadata": {},
   "source": [
    "![](images/problem_2_solutions_9.png)"
   ]
  },
  {
   "cell_type": "code",
   "execution_count": 100,
   "id": "c083de1e",
   "metadata": {},
   "outputs": [],
   "source": [
    "plot_ts_comp(bl, 0.5).write_image('images/problem_2_solutions_10.png')"
   ]
  },
  {
   "cell_type": "markdown",
   "id": "cfc9aaa4",
   "metadata": {},
   "source": [
    "![](images/problem_2_solutions_10.png)"
   ]
  },
  {
   "cell_type": "code",
   "execution_count": 101,
   "id": "34e6b483",
   "metadata": {},
   "outputs": [],
   "source": [
    "plot_ts_comp(bl, 0.75).write_image('images/problem_2_solutions_11.png')"
   ]
  },
  {
   "cell_type": "markdown",
   "id": "ebc81f25",
   "metadata": {},
   "source": [
    "![](images/problem_2_solutions_11.png)"
   ]
  },
  {
   "cell_type": "markdown",
   "id": "6f7ba086",
   "metadata": {},
   "source": [
    "Now we're talking! I'm not familiar with pytorch, there's probably something wrong with the implementation I was using."
   ]
  }
 ],
 "metadata": {
  "kernelspec": {
   "display_name": "Python 3 (ipykernel)",
   "language": "python",
   "name": "python3"
  },
  "language_info": {
   "codemirror_mode": {
    "name": "ipython",
    "version": 3
   },
   "file_extension": ".py",
   "mimetype": "text/x-python",
   "name": "python",
   "nbconvert_exporter": "python",
   "pygments_lexer": "ipython3",
   "version": "3.9.13"
  }
 },
 "nbformat": 4,
 "nbformat_minor": 5
}
