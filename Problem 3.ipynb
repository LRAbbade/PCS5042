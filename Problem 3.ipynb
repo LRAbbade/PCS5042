{
 "cells": [
  {
   "cell_type": "markdown",
   "id": "a17471b0",
   "metadata": {},
   "source": [
    "> Solve Kuramoto–Sivashinsky with PIML"
   ]
  },
  {
   "cell_type": "markdown",
   "id": "d84a99c2",
   "metadata": {},
   "source": [
    "<center>$\\large \\frac{\\partial u}{\\partial t}=-v\\frac{\\partial^4 u}{\\partial x^4}-\\frac{\\partial^2 u}{\\partial x^2}-u\\frac{\\partial u}{\\partial x}$</center>"
   ]
  },
  {
   "cell_type": "code",
   "execution_count": 1,
   "id": "4db2805d",
   "metadata": {},
   "outputs": [],
   "source": [
    "import pandas as pd\n",
    "import numpy as np\n",
    "from sklearn.decomposition import PCA\n",
    "from sklearn.preprocessing import StandardScaler\n",
    "import plotly.graph_objects as go\n",
    "import plotly.express as px\n",
    "import progressbar\n",
    "from sklearn.metrics import mean_absolute_error\n",
    "from sklearn.model_selection import train_test_split\n",
    "import tensorflow as tf\n",
    "from tensorflow import keras\n",
    "from tensorflow.keras import layers\n",
    "\n",
    "%matplotlib inline"
   ]
  },
  {
   "cell_type": "code",
   "execution_count": 2,
   "id": "8e7bc2f2",
   "metadata": {},
   "outputs": [],
   "source": [
    "data = pd.read_parquet('Data/KS_data.parquet')"
   ]
  },
  {
   "cell_type": "markdown",
   "id": "0e622e10",
   "metadata": {},
   "source": [
    "Scaling the data or PCA won't work"
   ]
  },
  {
   "cell_type": "code",
   "execution_count": 3,
   "id": "22cf7bf9",
   "metadata": {},
   "outputs": [],
   "source": [
    "scaler = StandardScaler()\n",
    "data = pd.DataFrame(scaler.fit_transform(data))\n",
    "data = data.applymap(lambda n: (n + 1) / 2) # set all values bewteen 0 and 1"
   ]
  },
  {
   "cell_type": "code",
   "execution_count": 4,
   "id": "7287ebe1",
   "metadata": {},
   "outputs": [
    {
     "data": {
      "text/html": [
       "<div>\n",
       "<style scoped>\n",
       "    .dataframe tbody tr th:only-of-type {\n",
       "        vertical-align: middle;\n",
       "    }\n",
       "\n",
       "    .dataframe tbody tr th {\n",
       "        vertical-align: top;\n",
       "    }\n",
       "\n",
       "    .dataframe thead th {\n",
       "        text-align: right;\n",
       "    }\n",
       "</style>\n",
       "<table border=\"1\" class=\"dataframe\">\n",
       "  <thead>\n",
       "    <tr style=\"text-align: right;\">\n",
       "      <th></th>\n",
       "      <th>0</th>\n",
       "      <th>1</th>\n",
       "      <th>2</th>\n",
       "      <th>3</th>\n",
       "      <th>4</th>\n",
       "      <th>5</th>\n",
       "      <th>6</th>\n",
       "      <th>7</th>\n",
       "      <th>8</th>\n",
       "      <th>9</th>\n",
       "      <th>10</th>\n",
       "    </tr>\n",
       "  </thead>\n",
       "  <tbody>\n",
       "    <tr>\n",
       "      <th>0</th>\n",
       "      <td>-0.478193</td>\n",
       "      <td>-0.423484</td>\n",
       "      <td>-0.361481</td>\n",
       "      <td>-0.294564</td>\n",
       "      <td>-0.224610</td>\n",
       "      <td>-0.153012</td>\n",
       "      <td>-0.080711</td>\n",
       "      <td>-0.008241</td>\n",
       "      <td>0.064236</td>\n",
       "      <td>0.136886</td>\n",
       "      <td>0.210136</td>\n",
       "    </tr>\n",
       "    <tr>\n",
       "      <th>1</th>\n",
       "      <td>-0.422947</td>\n",
       "      <td>-0.359123</td>\n",
       "      <td>-0.291522</td>\n",
       "      <td>-0.221948</td>\n",
       "      <td>-0.151654</td>\n",
       "      <td>-0.081407</td>\n",
       "      <td>-0.011565</td>\n",
       "      <td>0.057864</td>\n",
       "      <td>0.127159</td>\n",
       "      <td>0.196825</td>\n",
       "      <td>0.267534</td>\n",
       "    </tr>\n",
       "    <tr>\n",
       "      <th>2</th>\n",
       "      <td>-0.355469</td>\n",
       "      <td>-0.286757</td>\n",
       "      <td>-0.217152</td>\n",
       "      <td>-0.147817</td>\n",
       "      <td>-0.079377</td>\n",
       "      <td>-0.012018</td>\n",
       "      <td>0.054417</td>\n",
       "      <td>0.120348</td>\n",
       "      <td>0.186393</td>\n",
       "      <td>0.253301</td>\n",
       "      <td>0.321885</td>\n",
       "    </tr>\n",
       "    <tr>\n",
       "      <th>3</th>\n",
       "      <td>-0.280954</td>\n",
       "      <td>-0.210939</td>\n",
       "      <td>-0.142184</td>\n",
       "      <td>-0.075218</td>\n",
       "      <td>-0.010091</td>\n",
       "      <td>0.053510</td>\n",
       "      <td>0.116160</td>\n",
       "      <td>0.178607</td>\n",
       "      <td>0.241705</td>\n",
       "      <td>0.306349</td>\n",
       "      <td>0.373406</td>\n",
       "    </tr>\n",
       "    <tr>\n",
       "      <th>4</th>\n",
       "      <td>-0.204034</td>\n",
       "      <td>-0.135486</td>\n",
       "      <td>-0.069613</td>\n",
       "      <td>-0.006376</td>\n",
       "      <td>0.054664</td>\n",
       "      <td>0.114221</td>\n",
       "      <td>0.173183</td>\n",
       "      <td>0.232528</td>\n",
       "      <td>0.293251</td>\n",
       "      <td>0.356305</td>\n",
       "      <td>0.422529</td>\n",
       "    </tr>\n",
       "    <tr>\n",
       "      <th>5</th>\n",
       "      <td>-0.128438</td>\n",
       "      <td>-0.063269</td>\n",
       "      <td>-0.001522</td>\n",
       "      <td>0.057319</td>\n",
       "      <td>0.114079</td>\n",
       "      <td>0.169773</td>\n",
       "      <td>0.225505</td>\n",
       "      <td>0.282389</td>\n",
       "      <td>0.341478</td>\n",
       "      <td>0.403704</td>\n",
       "      <td>0.469814</td>\n",
       "    </tr>\n",
       "    <tr>\n",
       "      <th>6</th>\n",
       "      <td>-0.056850</td>\n",
       "      <td>0.003817</td>\n",
       "      <td>0.060877</td>\n",
       "      <td>0.115222</td>\n",
       "      <td>0.167962</td>\n",
       "      <td>0.220317</td>\n",
       "      <td>0.273522</td>\n",
       "      <td>0.328744</td>\n",
       "      <td>0.387020</td>\n",
       "      <td>0.449199</td>\n",
       "      <td>0.515869</td>\n",
       "    </tr>\n",
       "    <tr>\n",
       "      <th>7</th>\n",
       "      <td>0.009049</td>\n",
       "      <td>0.064755</td>\n",
       "      <td>0.117113</td>\n",
       "      <td>0.167289</td>\n",
       "      <td>0.216590</td>\n",
       "      <td>0.266360</td>\n",
       "      <td>0.317883</td>\n",
       "      <td>0.372313</td>\n",
       "      <td>0.430609</td>\n",
       "      <td>0.493473</td>\n",
       "      <td>0.561285</td>\n",
       "    </tr>\n",
       "    <tr>\n",
       "      <th>8</th>\n",
       "      <td>0.068433</td>\n",
       "      <td>0.119234</td>\n",
       "      <td>0.167275</td>\n",
       "      <td>0.213910</td>\n",
       "      <td>0.260565</td>\n",
       "      <td>0.308631</td>\n",
       "      <td>0.359380</td>\n",
       "      <td>0.413892</td>\n",
       "      <td>0.472988</td>\n",
       "      <td>0.537174</td>\n",
       "      <td>0.606572</td>\n",
       "    </tr>\n",
       "    <tr>\n",
       "      <th>9</th>\n",
       "      <td>0.121133</td>\n",
       "      <td>0.167462</td>\n",
       "      <td>0.211848</td>\n",
       "      <td>0.255763</td>\n",
       "      <td>0.300679</td>\n",
       "      <td>0.347975</td>\n",
       "      <td>0.398855</td>\n",
       "      <td>0.454267</td>\n",
       "      <td>0.514849</td>\n",
       "      <td>0.580858</td>\n",
       "      <td>0.652112</td>\n",
       "    </tr>\n",
       "    <tr>\n",
       "      <th>10</th>\n",
       "      <td>0.167451</td>\n",
       "      <td>0.209994</td>\n",
       "      <td>0.251565</td>\n",
       "      <td>0.293683</td>\n",
       "      <td>0.337813</td>\n",
       "      <td>0.385267</td>\n",
       "      <td>0.437127</td>\n",
       "      <td>0.494165</td>\n",
       "      <td>0.556782</td>\n",
       "      <td>0.624947</td>\n",
       "      <td>0.698128</td>\n",
       "    </tr>\n",
       "  </tbody>\n",
       "</table>\n",
       "</div>"
      ],
      "text/plain": [
       "          0         1         2         3         4         5         6   \\\n",
       "0  -0.478193 -0.423484 -0.361481 -0.294564 -0.224610 -0.153012 -0.080711   \n",
       "1  -0.422947 -0.359123 -0.291522 -0.221948 -0.151654 -0.081407 -0.011565   \n",
       "2  -0.355469 -0.286757 -0.217152 -0.147817 -0.079377 -0.012018  0.054417   \n",
       "3  -0.280954 -0.210939 -0.142184 -0.075218 -0.010091  0.053510  0.116160   \n",
       "4  -0.204034 -0.135486 -0.069613 -0.006376  0.054664  0.114221  0.173183   \n",
       "5  -0.128438 -0.063269 -0.001522  0.057319  0.114079  0.169773  0.225505   \n",
       "6  -0.056850  0.003817  0.060877  0.115222  0.167962  0.220317  0.273522   \n",
       "7   0.009049  0.064755  0.117113  0.167289  0.216590  0.266360  0.317883   \n",
       "8   0.068433  0.119234  0.167275  0.213910  0.260565  0.308631  0.359380   \n",
       "9   0.121133  0.167462  0.211848  0.255763  0.300679  0.347975  0.398855   \n",
       "10  0.167451  0.209994  0.251565  0.293683  0.337813  0.385267  0.437127   \n",
       "\n",
       "          7         8         9         10  \n",
       "0  -0.008241  0.064236  0.136886  0.210136  \n",
       "1   0.057864  0.127159  0.196825  0.267534  \n",
       "2   0.120348  0.186393  0.253301  0.321885  \n",
       "3   0.178607  0.241705  0.306349  0.373406  \n",
       "4   0.232528  0.293251  0.356305  0.422529  \n",
       "5   0.282389  0.341478  0.403704  0.469814  \n",
       "6   0.328744  0.387020  0.449199  0.515869  \n",
       "7   0.372313  0.430609  0.493473  0.561285  \n",
       "8   0.413892  0.472988  0.537174  0.606572  \n",
       "9   0.454267  0.514849  0.580858  0.652112  \n",
       "10  0.494165  0.556782  0.624947  0.698128  "
      ]
     },
     "execution_count": 4,
     "metadata": {},
     "output_type": "execute_result"
    }
   ],
   "source": [
    "data.loc[:10, :10]  # just an example"
   ]
  },
  {
   "cell_type": "code",
   "execution_count": null,
   "id": "cb62dad8",
   "metadata": {},
   "outputs": [],
   "source": [
    "go.Figure(data =\n",
    "    go.Contour(\n",
    "        z=data.loc[:1000].to_numpy()\n",
    "    )).write_image('images/problem_3_data_example.png')"
   ]
  },
  {
   "cell_type": "markdown",
   "id": "3b4b7a86",
   "metadata": {},
   "source": [
    "![](images/problem_3_data_example.png)"
   ]
  },
  {
   "cell_type": "code",
   "execution_count": null,
   "id": "58042043",
   "metadata": {},
   "outputs": [],
   "source": [
    "def test_n_components_acc(n, data):\n",
    "    pca = PCA(n_components=n)\n",
    "    reduced_data = pca.fit_transform(data)\n",
    "    aux = pca.inverse_transform(reduced_data)\n",
    "    return mean_absolute_error(data, aux)"
   ]
  },
  {
   "cell_type": "code",
   "execution_count": null,
   "id": "43f839a4",
   "metadata": {},
   "outputs": [],
   "source": [
    "pca_n_acc = []\n",
    "for i in progressbar.progressbar(range(2, 50)):\n",
    "    pca_n_acc.append(test_n_components_acc(i, data))\n",
    "\n",
    "# I started with n_components up to 50 above, but results were bad even for 50, I just extended the test\n",
    "# in order to save time, that's why the X of the chart looks like that\n",
    "\n",
    "for i in progressbar.progressbar(range(50, 200, 10)):\n",
    "    pca_n_acc.append(test_n_components_acc(i, data))"
   ]
  },
  {
   "cell_type": "code",
   "execution_count": null,
   "id": "e0bc2631",
   "metadata": {},
   "outputs": [],
   "source": [
    "px.line(x=[*range(2, 50), *range(50, 200, 10)], y=pca_n_acc,\n",
    "        title='Reduced data difference to real').write_image('images/PCA_components_test.png')"
   ]
  },
  {
   "cell_type": "markdown",
   "id": "7e8a9126",
   "metadata": {},
   "source": [
    "![](images/PCA_components_test.png)"
   ]
  },
  {
   "cell_type": "markdown",
   "id": "ab3ff79b",
   "metadata": {},
   "source": [
    "I'll use 90 as the number of components, that's the first one where the difference to original on return is negligible"
   ]
  },
  {
   "cell_type": "code",
   "execution_count": 5,
   "id": "0ebb5a23",
   "metadata": {},
   "outputs": [],
   "source": [
    "pca = PCA(n_components=90)"
   ]
  },
  {
   "cell_type": "code",
   "execution_count": 6,
   "id": "85a66284",
   "metadata": {},
   "outputs": [
    {
     "name": "stdout",
     "output_type": "stream",
     "text": [
      "CPU times: total: 57.6 s\n",
      "Wall time: 5.59 s\n"
     ]
    }
   ],
   "source": [
    "%%time\n",
    "reduced_data = pca.fit_transform(data)"
   ]
  },
  {
   "cell_type": "code",
   "execution_count": 7,
   "id": "88cc0034",
   "metadata": {},
   "outputs": [
    {
     "data": {
      "text/plain": [
       "0.0006817917827186932"
      ]
     },
     "execution_count": 7,
     "metadata": {},
     "output_type": "execute_result"
    }
   ],
   "source": [
    "mean_absolute_error(data, pca.inverse_transform(reduced_data))"
   ]
  },
  {
   "cell_type": "code",
   "execution_count": 8,
   "id": "be54fc61",
   "metadata": {},
   "outputs": [],
   "source": [
    "reduced_data = pd.DataFrame(reduced_data)"
   ]
  },
  {
   "cell_type": "markdown",
   "id": "230c57a7",
   "metadata": {},
   "source": [
    "scale the reduced data"
   ]
  },
  {
   "cell_type": "code",
   "execution_count": 9,
   "id": "d855bbe0",
   "metadata": {},
   "outputs": [],
   "source": [
    "red_scaler = StandardScaler()\n",
    "reduced_data = pd.DataFrame(red_scaler.fit_transform(reduced_data))\n",
    "reduced_data = reduced_data.applymap(lambda n: (n + 1) / 2) # set all values bewteen 0 and 1"
   ]
  },
  {
   "cell_type": "markdown",
   "id": "a7ffe87c",
   "metadata": {},
   "source": [
    "---"
   ]
  },
  {
   "cell_type": "markdown",
   "id": "dca196a3",
   "metadata": {},
   "source": [
    "### LSTM"
   ]
  },
  {
   "cell_type": "markdown",
   "id": "7ee08b6e",
   "metadata": {},
   "source": [
    "I want to try a LSTM, gonna start with a relatively tame one"
   ]
  },
  {
   "cell_type": "markdown",
   "id": "ab3ac68e",
   "metadata": {},
   "source": [
    "reshape data"
   ]
  },
  {
   "cell_type": "code",
   "execution_count": null,
   "id": "7e8ed248",
   "metadata": {},
   "outputs": [],
   "source": [
    "sample_size = 1000\n",
    "X, y = [], []\n",
    "for i in range(len(reduced_data) - (sample_size + 1)):\n",
    "    X.append(reduced_data.loc[i:i + sample_size - 1].to_numpy())\n",
    "    y.append(reduced_data.loc[i + sample_size].to_numpy())"
   ]
  },
  {
   "cell_type": "code",
   "execution_count": null,
   "id": "11ccf8de",
   "metadata": {},
   "outputs": [],
   "source": [
    "len(X), len(y)"
   ]
  },
  {
   "cell_type": "code",
   "execution_count": null,
   "id": "1753d358",
   "metadata": {},
   "outputs": [],
   "source": [
    "X_train, X_test, y_train, y_test = train_test_split(X, y, train_size=0.8, random_state=42)"
   ]
  },
  {
   "cell_type": "code",
   "execution_count": null,
   "id": "9004a60e",
   "metadata": {},
   "outputs": [],
   "source": [
    "model = keras.Sequential()\n",
    "model.add(layers.LSTM(128, input_shape=(1000, 90)))\n",
    "model.add(layers.Dense(90))\n",
    "model.compile()\n",
    "model.summary()"
   ]
  },
  {
   "cell_type": "code",
   "execution_count": null,
   "id": "034942d9",
   "metadata": {},
   "outputs": [],
   "source": [
    "model.fit(\n",
    "    X_train, y_train, validation_data=(X_test, y_test), batch_size=1, epochs=1\n",
    ")"
   ]
  },
  {
   "cell_type": "markdown",
   "id": "e14e7b9e",
   "metadata": {},
   "source": [
    "So the model is eating my whole vram even with batch_size = 1, there's no way I'm running this. Will change my approach to DeepONets"
   ]
  },
  {
   "cell_type": "markdown",
   "id": "f2d7b73f",
   "metadata": {},
   "source": [
    "---"
   ]
  },
  {
   "cell_type": "markdown",
   "id": "0fa56474",
   "metadata": {},
   "source": [
    "### DeepONets"
   ]
  },
  {
   "cell_type": "code",
   "execution_count": null,
   "id": "8c4aa155",
   "metadata": {},
   "outputs": [],
   "source": [
    "import deepxde as dde"
   ]
  },
  {
   "cell_type": "code",
   "execution_count": null,
   "id": "815f0757",
   "metadata": {},
   "outputs": [],
   "source": [
    "data = dde.data.TripleCartesianProd(X_train, np.array(y_train), X_test, y_test)"
   ]
  },
  {
   "cell_type": "markdown",
   "id": "18accc33",
   "metadata": {},
   "source": [
    "I have no idea what shape is the input expected to be in, [the docs are vague](https://deepxde.readthedocs.io/en/latest/modules/deepxde.data.html#deepxde.data.triple.TripleCartesianProd) and [the examples are no better](https://deepxde.readthedocs.io/en/latest/demos/operator/antiderivative_aligned.html#complete-code)"
   ]
  },
  {
   "cell_type": "markdown",
   "id": "e83d6c76",
   "metadata": {},
   "source": [
    "---"
   ]
  },
  {
   "cell_type": "markdown",
   "id": "0b4d4f3f",
   "metadata": {},
   "source": [
    "### OpInf"
   ]
  },
  {
   "cell_type": "markdown",
   "id": "69233d23",
   "metadata": {},
   "source": [
    "[Willcox-Research-Group OpInf looks good and has docs, gonna try it](https://willcox-research-group.github.io/rom-operator-inference-Python3/content/index.html)"
   ]
  },
  {
   "cell_type": "code",
   "execution_count": 10,
   "id": "7afc524a",
   "metadata": {},
   "outputs": [],
   "source": [
    "import opinf\n",
    "import scipy.linalg as la\n",
    "import matplotlib.pyplot as plt"
   ]
  },
  {
   "cell_type": "code",
   "execution_count": 11,
   "id": "325ecea1",
   "metadata": {},
   "outputs": [],
   "source": [
    "Q = data.T\n",
    "dt = 0.25\n",
    "q0 = Q[0].to_numpy()\n",
    "t = []\n",
    "start = 0\n",
    "for i in range(len(Q.columns)):\n",
    "    t.append(start)\n",
    "    start += dt\n",
    "\n",
    "t = np.array(t)"
   ]
  },
  {
   "cell_type": "code",
   "execution_count": 12,
   "id": "2b1a8f9b",
   "metadata": {},
   "outputs": [
    {
     "data": {
      "text/plain": [
       "<PODBasis object at 0x21effdc8a30>\n",
       "PODBasis\n",
       "Full-order dimension    n = 512\n",
       "Reduced-order dimension r = 90"
      ]
     },
     "execution_count": 12,
     "metadata": {},
     "output_type": "execute_result"
    }
   ],
   "source": [
    "basis = opinf.pre.PODBasis().fit(Q.to_numpy(), r=90)                # Construct the low-dimensional basis.\n",
    "basis"
   ]
  },
  {
   "cell_type": "code",
   "execution_count": 13,
   "id": "1e5041cb",
   "metadata": {},
   "outputs": [
    {
     "data": {
      "text/plain": [
       "(512, 200000)"
      ]
     },
     "execution_count": 13,
     "metadata": {},
     "output_type": "execute_result"
    }
   ],
   "source": [
    "Qdot = opinf.pre.ddt(Q, dt)                    # Calculate the time derivative matrix.\n",
    "Qdot.shape"
   ]
  },
  {
   "cell_type": "code",
   "execution_count": 28,
   "id": "31d702f9",
   "metadata": {},
   "outputs": [
    {
     "data": {
      "text/plain": [
       "<ContinuousOpInfROM object at 0x15fbb408a60>\n",
       "Reduced-order model structure: dq / dt = Aq(t)\n",
       "Full-order dimension    n = 512\n",
       "Reduced-order dimension r = 90"
      ]
     },
     "execution_count": 28,
     "metadata": {},
     "output_type": "execute_result"
    }
   ],
   "source": [
    "rom = opinf.ContinuousOpInfROM(modelform='A')           # Define the model structure.\n",
    "rom.fit(basis, Q, Qdot, regularizer=1e-2)               # Construct the ROM with OpInf."
   ]
  },
  {
   "cell_type": "code",
   "execution_count": 30,
   "id": "8f63f460",
   "metadata": {},
   "outputs": [
    {
     "name": "stdout",
     "output_type": "stream",
     "text": [
      "CPU times: total: 52.4 s\n",
      "Wall time: 50.2 s\n"
     ]
    }
   ],
   "source": [
    "%%time\n",
    "Q_ROM = rom.predict(q0, t, method='BDF', max_step=dt)   # Simulate the ROM."
   ]
  },
  {
   "cell_type": "code",
   "execution_count": 31,
   "id": "faf17228",
   "metadata": {},
   "outputs": [
    {
     "data": {
      "text/plain": [
       "1.3868865870980476"
      ]
     },
     "execution_count": 31,
     "metadata": {},
     "output_type": "execute_result"
    }
   ],
   "source": [
    "opinf.post.frobenius_error(Q, Q_ROM)[1]                 # Calculate the relative error of the ROM simulation."
   ]
  },
  {
   "cell_type": "markdown",
   "id": "d7193440",
   "metadata": {},
   "source": [
    "doesnt look good"
   ]
  },
  {
   "cell_type": "code",
   "execution_count": 32,
   "id": "141089d7",
   "metadata": {},
   "outputs": [],
   "source": [
    "svdvals = la.svdvals(Q)"
   ]
  },
  {
   "cell_type": "code",
   "execution_count": 33,
   "id": "cd41fe71",
   "metadata": {},
   "outputs": [
    {
     "name": "stdout",
     "output_type": "stream",
     "text": [
      "r = 95 singular values exceed 99.9999% energy\n"
     ]
    }
   ],
   "source": [
    "kappa = .999999\n",
    "r = opinf.pre.cumulative_energy(svdvals, kappa, plot=False)\n",
    "print(f\"r = {r:d} singular values exceed {kappa:.4%} energy\")"
   ]
  },
  {
   "cell_type": "code",
   "execution_count": 34,
   "id": "dffe6c49",
   "metadata": {},
   "outputs": [
    {
     "name": "stdout",
     "output_type": "stream",
     "text": [
      "Shape of Vr: (512, 90)\n"
     ]
    }
   ],
   "source": [
    "r = 90\n",
    "Vr, _ = opinf.pre.pod_basis(Q, r, mode=\"dense\")\n",
    "print(f\"Shape of Vr: {Vr.shape}\")"
   ]
  },
  {
   "cell_type": "code",
   "execution_count": 35,
   "id": "a7a351b1",
   "metadata": {},
   "outputs": [],
   "source": [
    "x_all = np.array(data.columns)"
   ]
  },
  {
   "cell_type": "code",
   "execution_count": 36,
   "id": "9d084226",
   "metadata": {},
   "outputs": [
    {
     "data": {
      "image/png": "[encoded data removed]",
      "text/plain": [
       "<Figure size 432x288 with 1 Axes>"
      ]
     },
     "metadata": {
      "needs_background": "light"
     },
     "output_type": "display_data"
    }
   ],
   "source": [
    "for j in range(0, Vr.shape[1], 30):\n",
    "    plt.plot(x_all, Vr[:, j], label=f'POD mode {j+1}')\n",
    "\n",
    "plt.legend(loc=\"upper right\")\n",
    "plt.show()"
   ]
  },
  {
   "cell_type": "code",
   "execution_count": 37,
   "id": "1eea4b6a",
   "metadata": {},
   "outputs": [],
   "source": [
    "Q = Q.to_numpy()"
   ]
  },
  {
   "cell_type": "code",
   "execution_count": 38,
   "id": "15a85666",
   "metadata": {},
   "outputs": [
    {
     "data": {
      "text/plain": [
       "0.003850716035645095"
      ]
     },
     "execution_count": 38,
     "metadata": {},
     "output_type": "execute_result"
    }
   ],
   "source": [
    "Qdot2 = opinf.pre.ddt_uniform(Q, dt, order=6)\n",
    "\n",
    "# Check that the estimate is close to the true time derivatives.\n",
    "la.norm(Qdot - Qdot2, ord=np.inf) / la.norm(Qdot, ord=np.inf)"
   ]
  },
  {
   "cell_type": "code",
   "execution_count": 39,
   "id": "513d74e9",
   "metadata": {},
   "outputs": [
    {
     "data": {
      "text/plain": [
       "False"
      ]
     },
     "execution_count": 39,
     "metadata": {},
     "output_type": "execute_result"
    }
   ],
   "source": [
    "Q_ = Vr.T @ Q                                   # Project the state snapshots.\n",
    "Qdot_ = opinf.pre.ddt_uniform(Q_, dt, order=6)  # Estimate the projected time derivatives.\n",
    "\n",
    "np.allclose(Vr.T @ Qdot2, Qdot_)                # Same as project the full-order time derivatives."
   ]
  },
  {
   "cell_type": "code",
   "execution_count": 40,
   "id": "af502fe9",
   "metadata": {},
   "outputs": [
    {
     "data": {
      "text/plain": [
       "<ContinuousOpInfROM object at 0x15fc8bc2130>\n",
       "Reduced-order model structure: dq / dt = Aq(t)"
      ]
     },
     "execution_count": 40,
     "metadata": {},
     "output_type": "execute_result"
    }
   ],
   "source": [
    "rom = opinf.ContinuousOpInfROM('A')\n",
    "rom"
   ]
  },
  {
   "cell_type": "code",
   "execution_count": 42,
   "id": "299a6e0e",
   "metadata": {},
   "outputs": [
    {
     "data": {
      "text/plain": [
       "<ContinuousOpInfROM object at 0x15fc8bc2130>\n",
       "Reduced-order model structure: dq / dt = Aq(t)\n",
       "Full-order dimension    n = 512\n",
       "Reduced-order dimension r = 90"
      ]
     },
     "execution_count": 42,
     "metadata": {},
     "output_type": "execute_result"
    }
   ],
   "source": [
    "rom.fit(Vr, Q, Qdot, regularizer=1e-2)"
   ]
  },
  {
   "cell_type": "code",
   "execution_count": 43,
   "id": "510ebe92",
   "metadata": {},
   "outputs": [
    {
     "data": {
      "text/plain": [
       "(512, 200000)"
      ]
     },
     "execution_count": 43,
     "metadata": {},
     "output_type": "execute_result"
    }
   ],
   "source": [
    "Q_ROM = rom.predict(q0, t, method='BDF', max_step=dt)\n",
    "Q_ROM.shape"
   ]
  },
  {
   "cell_type": "code",
   "execution_count": 44,
   "id": "55102a74",
   "metadata": {},
   "outputs": [],
   "source": [
    "fig = go.Figure(data =\n",
    "    go.Contour(\n",
    "        z=Q[:, :1000]\n",
    "    ))\n",
    "fig.update_layout(title='Original Q first 1000 steps')\n",
    "fig.write_image('images/problem_3_q_first_1000_2.png')"
   ]
  },
  {
   "cell_type": "markdown",
   "id": "989bccb0",
   "metadata": {},
   "source": [
    "![](images/problem_3_q_first_1000_2.png)"
   ]
  },
  {
   "cell_type": "code",
   "execution_count": 45,
   "id": "69c6abba",
   "metadata": {},
   "outputs": [],
   "source": [
    "fig = go.Figure(data =\n",
    "    go.Contour(\n",
    "        z=Q_ROM[:, :1000]\n",
    "    ))\n",
    "fig.update_layout(title='Q ROM first 1000 steps')\n",
    "fig.write_image('images/problem_3_qrom_first_1000_2.png')"
   ]
  },
  {
   "cell_type": "markdown",
   "id": "a8fe1f7a",
   "metadata": {},
   "source": [
    "![](images/problem_3_qrom_first_1000_2.png)"
   ]
  },
  {
   "cell_type": "code",
   "execution_count": 46,
   "id": "53fd66de",
   "metadata": {},
   "outputs": [
    {
     "data": {
      "image/png": "[encoded data removed]",
      "text/plain": [
       "<Figure size 432x288 with 1 Axes>"
      ]
     },
     "metadata": {
      "needs_background": "light"
     },
     "output_type": "display_data"
    }
   ],
   "source": [
    "abs_l2err, rel_l2err = opinf.post.lp_error(Q, Q_ROM)\n",
    "plt.semilogy(t, abs_l2err)\n",
    "plt.title(r\"Absolute $\\ell^{2}$ error\")\n",
    "plt.show()"
   ]
  },
  {
   "cell_type": "code",
   "execution_count": 47,
   "id": "220c0fc7",
   "metadata": {},
   "outputs": [
    {
     "name": "stdout",
     "output_type": "stream",
     "text": [
      "Relative Frobenius-norm error: 138.688659%\n"
     ]
    }
   ],
   "source": [
    "abs_froerr, rel_froerr = opinf.post.frobenius_error(Q, Q_ROM)\n",
    "print(f\"Relative Frobenius-norm error: {rel_froerr:%}\")"
   ]
  },
  {
   "cell_type": "code",
   "execution_count": 62,
   "id": "eafaa1a1",
   "metadata": {},
   "outputs": [],
   "source": [
    "# Get a new, slightly larger POD basis\n",
    "r = 150\n",
    "Vr, svdvals = opinf.pre.pod_basis(Q, r, mode=\"dense\")"
   ]
  },
  {
   "cell_type": "code",
   "execution_count": 68,
   "id": "c6a77c76",
   "metadata": {},
   "outputs": [
    {
     "data": {
      "image/png": "[encoded data removed]",
      "text/plain": [
       "<Figure size 432x288 with 1 Axes>"
      ]
     },
     "metadata": {
      "needs_background": "light"
     },
     "output_type": "display_data"
    }
   ],
   "source": [
    "for j in range(0, Vr.shape[1], 60):\n",
    "    plt.plot(x_all, Vr[:, j], label=f'POD mode {j+1}')\n",
    "\n",
    "plt.legend(loc=\"upper right\")\n",
    "plt.show()"
   ]
  },
  {
   "cell_type": "code",
   "execution_count": 70,
   "id": "c07bffb7",
   "metadata": {},
   "outputs": [],
   "source": [
    "# Learn a new ROM using the new basis\n",
    "# (but only using snapshot data from one initial condition).\n",
    "rom_new = opinf.ContinuousOpInfROM(\"A\").fit(Vr, Q, Qdot)"
   ]
  },
  {
   "cell_type": "code",
   "execution_count": 72,
   "id": "5ad096fd",
   "metadata": {},
   "outputs": [
    {
     "name": "stdout",
     "output_type": "stream",
     "text": [
      "CPU times: total: 52.7 s\n",
      "Wall time: 50.5 s\n"
     ]
    },
    {
     "data": {
      "text/plain": [
       "(512, 200000)"
      ]
     },
     "execution_count": 72,
     "metadata": {},
     "output_type": "execute_result"
    }
   ],
   "source": [
    "%%time\n",
    "Q_ROM = rom.predict(q0, t, method='BDF', max_step=dt)\n",
    "Q_ROM.shape"
   ]
  },
  {
   "cell_type": "code",
   "execution_count": 74,
   "id": "ddf1e9ba",
   "metadata": {},
   "outputs": [
    {
     "name": "stdout",
     "output_type": "stream",
     "text": [
      "Relative Frobenius-norm error: 138.688659%\n"
     ]
    }
   ],
   "source": [
    "abs_froerr, rel_froerr = opinf.post.frobenius_error(Q, Q_ROM)\n",
    "print(f\"Relative Frobenius-norm error: {rel_froerr:%}\")"
   ]
  },
  {
   "cell_type": "code",
   "execution_count": 73,
   "id": "ac669498",
   "metadata": {},
   "outputs": [],
   "source": [
    "fig = go.Figure(data =\n",
    "    go.Contour(\n",
    "        z=Q_ROM[:, :1000]\n",
    "    ))\n",
    "fig.update_layout(title='New Q ROM first 1000 steps')\n",
    "fig.write_image('images/problem_3_new_qrom_first_1000.png')"
   ]
  },
  {
   "cell_type": "markdown",
   "id": "b93a417d",
   "metadata": {},
   "source": [
    "![](images/problem_3_new_qrom_first_1000.png)"
   ]
  },
  {
   "cell_type": "markdown",
   "id": "f0886623",
   "metadata": {},
   "source": [
    "This is still very far, by the tests I've made with PCA before, 150 should be more than enough dimensions to represent the data"
   ]
  },
  {
   "cell_type": "markdown",
   "id": "4e34c2aa",
   "metadata": {},
   "source": [
    "I'll try a hyperparameter optimization with optuna"
   ]
  },
  {
   "cell_type": "code",
   "execution_count": 14,
   "id": "4c9b1faf",
   "metadata": {},
   "outputs": [],
   "source": [
    "import optuna"
   ]
  },
  {
   "cell_type": "code",
   "execution_count": 15,
   "id": "8c3eb248",
   "metadata": {},
   "outputs": [
    {
     "data": {
      "text/plain": [
       "(512, 200000)"
      ]
     },
     "execution_count": 15,
     "metadata": {},
     "output_type": "execute_result"
    }
   ],
   "source": [
    "Q.shape"
   ]
  },
  {
   "cell_type": "code",
   "execution_count": 16,
   "id": "4ac92c41",
   "metadata": {},
   "outputs": [
    {
     "data": {
      "text/plain": [
       "(512, 200000)"
      ]
     },
     "execution_count": 16,
     "metadata": {},
     "output_type": "execute_result"
    }
   ],
   "source": [
    "Qdot.shape"
   ]
  },
  {
   "cell_type": "code",
   "execution_count": 17,
   "id": "d72da637",
   "metadata": {},
   "outputs": [
    {
     "data": {
      "text/plain": [
       "(512,)"
      ]
     },
     "execution_count": 17,
     "metadata": {},
     "output_type": "execute_result"
    }
   ],
   "source": [
    "q0.shape"
   ]
  },
  {
   "cell_type": "code",
   "execution_count": 18,
   "id": "9ab94ecb",
   "metadata": {},
   "outputs": [
    {
     "data": {
      "text/plain": [
       "(200000,)"
      ]
     },
     "execution_count": 18,
     "metadata": {},
     "output_type": "execute_result"
    }
   ],
   "source": [
    "t.shape"
   ]
  },
  {
   "cell_type": "code",
   "execution_count": 19,
   "id": "1f5a1c80",
   "metadata": {},
   "outputs": [
    {
     "data": {
      "text/plain": [
       "0.25"
      ]
     },
     "execution_count": 19,
     "metadata": {},
     "output_type": "execute_result"
    }
   ],
   "source": [
    "dt"
   ]
  },
  {
   "cell_type": "code",
   "execution_count": 27,
   "id": "9132208c",
   "metadata": {},
   "outputs": [],
   "source": [
    "def train_rom(r: int, mode: str, model_form: str, method: str) -> float:\n",
    "    \"\"\"\n",
    "    Train a rom for parameters and return Relative Frobenius-norm error\n",
    "    \n",
    "    Arguments:\n",
    "        - r {int} -- number of POD basis\n",
    "        - mode {str} -- POD mode (should be one of 'dense', 'sparse', 'randomized')\n",
    "        - model_form {str} -- ROM model form, should be one of:\n",
    "            'c' : Constant term c.\n",
    "            'A' : Linear state term Aq(t).\n",
    "            'H' : Quadratic state term H[q(t) ⊗ q(t)].\n",
    "            'G' : Cubic state term G[q(t) ⊗ q(t) ⊗ q(t)].\n",
    "            'B' : Input term Bu(t).\n",
    "        - method {str} -- ODE solver for the reduced-order model.\n",
    "            * 'RK45' (default): Explicit Runge-Kutta method of order 5(4).\n",
    "            * 'RK23': Explicit Runge-Kutta method of order 3(2).\n",
    "            * 'Radau': Implicit Runge-Kutta method of the Radau IIA family\n",
    "                of order 5.\n",
    "            * 'BDF': Implicit multi-step variable-order (1 to 5) method\n",
    "                based on a backward differentiation formula for the\n",
    "                derivative.\n",
    "            * 'LSODA': Adams/BDF method with automatic stiffness detection\n",
    "                and switching. This wraps the Fortran solver from ODEPACK.\n",
    "    \"\"\"\n",
    "    print(f'Testing {r=} {mode=} {model_form=} {method=}')\n",
    "    Vr, svdvals = opinf.pre.pod_basis(Q, r, mode=mode)\n",
    "    rom = opinf.ContinuousOpInfROM(model_form).fit(Vr, Q, Qdot)\n",
    "    Q_ROM = rom.predict(q0, t, method=method, max_step=dt)\n",
    "    return opinf.post.frobenius_error(Q, Q_ROM)[1]"
   ]
  },
  {
   "cell_type": "code",
   "execution_count": 31,
   "id": "0d684030",
   "metadata": {},
   "outputs": [],
   "source": [
    "def objective(trial):\n",
    "    r = trial.suggest_int('r', 50, 500)\n",
    "    mode = trial.suggest_categorical('mode', ['dense', 'sparse', 'randomized'])\n",
    "    model_form = trial.suggest_categorical('model_form', ['c', 'A', 'H', 'G'])\n",
    "    method = trial.suggest_categorical('method', ['RK45', 'RK23', 'Radau', 'BDF', 'LSODA'])\n",
    "    try:\n",
    "        return train_rom(r, mode, model_form, method)\n",
    "    except Exception as e:\n",
    "        print(f'Error: {e}; skipping params')\n",
    "        return 1e9"
   ]
  },
  {
   "cell_type": "code",
   "execution_count": null,
   "id": "25fbea50",
   "metadata": {},
   "outputs": [],
   "source": [
    "study = optuna.create_study()\n",
    "study.optimize(objective, n_trials=100)\n",
    "study.best_params"
   ]
  },
  {
   "cell_type": "markdown",
   "id": "ff817b8c",
   "metadata": {},
   "source": [
    "Unable to run the study, crashed my pc 3x"
   ]
  }
 ],
 "metadata": {
  "kernelspec": {
   "display_name": "Python 3 (ipykernel)",
   "language": "python",
   "name": "python3"
  },
  "language_info": {
   "codemirror_mode": {
    "name": "ipython",
    "version": 3
   },
   "file_extension": ".py",
   "mimetype": "text/x-python",
   "name": "python",
   "nbconvert_exporter": "python",
   "pygments_lexer": "ipython3",
   "version": "3.8.13"
  }
 },
 "nbformat": 4,
 "nbformat_minor": 5
}
