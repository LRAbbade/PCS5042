{
 "cells": [
  {
   "cell_type": "markdown",
   "id": "a17471b0",
   "metadata": {},
   "source": [
    "> Solve Kuramoto–Sivashinsky with PIML"
   ]
  },
  {
   "cell_type": "markdown",
   "id": "d84a99c2",
   "metadata": {},
   "source": [
    "<center>$\\large \\frac{\\partial u}{\\partial t}=-v\\frac{\\partial^4 u}{\\partial x^4}-\\frac{\\partial^2 u}{\\partial x^2}-u\\frac{\\partial u}{\\partial x}$</center>"
   ]
  },
  {
   "cell_type": "code",
   "execution_count": 1,
   "id": "4db2805d",
   "metadata": {},
   "outputs": [],
   "source": [
    "import pandas as pd\n",
    "import numpy as np\n",
    "from sklearn.decomposition import PCA\n",
    "from sklearn.preprocessing import StandardScaler\n",
    "import plotly.graph_objects as go\n",
    "import plotly.express as px\n",
    "import progressbar\n",
    "from sklearn.metrics import mean_absolute_error\n",
    "from sklearn.model_selection import train_test_split\n",
    "import tensorflow as tf\n",
    "from tensorflow import keras\n",
    "from tensorflow.keras import layers\n",
    "\n",
    "%matplotlib inline"
   ]
  },
  {
   "cell_type": "code",
   "execution_count": 2,
   "id": "8e7bc2f2",
   "metadata": {},
   "outputs": [],
   "source": [
    "data = pd.read_parquet('Data/KS_data.parquet')"
   ]
  },
  {
   "cell_type": "markdown",
   "id": "0e622e10",
   "metadata": {},
   "source": [
    "Scaling the data or PCA won't work"
   ]
  },
  {
   "cell_type": "code",
   "execution_count": 3,
   "id": "22cf7bf9",
   "metadata": {},
   "outputs": [],
   "source": [
    "scaler = StandardScaler()\n",
    "data = pd.DataFrame(scaler.fit_transform(data))\n",
    "data = data.applymap(lambda n: (n + 1) / 2) # set all values bewteen 0 and 1"
   ]
  },
  {
   "cell_type": "code",
   "execution_count": 39,
   "id": "7287ebe1",
   "metadata": {},
   "outputs": [
    {
     "data": {
      "text/html": [
       "<div>\n",
       "<style scoped>\n",
       "    .dataframe tbody tr th:only-of-type {\n",
       "        vertical-align: middle;\n",
       "    }\n",
       "\n",
       "    .dataframe tbody tr th {\n",
       "        vertical-align: top;\n",
       "    }\n",
       "\n",
       "    .dataframe thead th {\n",
       "        text-align: right;\n",
       "    }\n",
       "</style>\n",
       "<table border=\"1\" class=\"dataframe\">\n",
       "  <thead>\n",
       "    <tr style=\"text-align: right;\">\n",
       "      <th></th>\n",
       "      <th>0</th>\n",
       "      <th>1</th>\n",
       "      <th>2</th>\n",
       "      <th>3</th>\n",
       "      <th>4</th>\n",
       "      <th>5</th>\n",
       "      <th>6</th>\n",
       "      <th>7</th>\n",
       "      <th>8</th>\n",
       "      <th>9</th>\n",
       "      <th>10</th>\n",
       "    </tr>\n",
       "  </thead>\n",
       "  <tbody>\n",
       "    <tr>\n",
       "      <th>0</th>\n",
       "      <td>-0.478193</td>\n",
       "      <td>-0.423484</td>\n",
       "      <td>-0.361481</td>\n",
       "      <td>-0.294564</td>\n",
       "      <td>-0.224610</td>\n",
       "      <td>-0.153012</td>\n",
       "      <td>-0.080711</td>\n",
       "      <td>-0.008241</td>\n",
       "      <td>0.064236</td>\n",
       "      <td>0.136886</td>\n",
       "      <td>0.210136</td>\n",
       "    </tr>\n",
       "    <tr>\n",
       "      <th>1</th>\n",
       "      <td>-0.422947</td>\n",
       "      <td>-0.359123</td>\n",
       "      <td>-0.291522</td>\n",
       "      <td>-0.221948</td>\n",
       "      <td>-0.151654</td>\n",
       "      <td>-0.081407</td>\n",
       "      <td>-0.011565</td>\n",
       "      <td>0.057864</td>\n",
       "      <td>0.127159</td>\n",
       "      <td>0.196825</td>\n",
       "      <td>0.267534</td>\n",
       "    </tr>\n",
       "    <tr>\n",
       "      <th>2</th>\n",
       "      <td>-0.355469</td>\n",
       "      <td>-0.286757</td>\n",
       "      <td>-0.217152</td>\n",
       "      <td>-0.147817</td>\n",
       "      <td>-0.079377</td>\n",
       "      <td>-0.012018</td>\n",
       "      <td>0.054417</td>\n",
       "      <td>0.120348</td>\n",
       "      <td>0.186393</td>\n",
       "      <td>0.253301</td>\n",
       "      <td>0.321885</td>\n",
       "    </tr>\n",
       "    <tr>\n",
       "      <th>3</th>\n",
       "      <td>-0.280954</td>\n",
       "      <td>-0.210939</td>\n",
       "      <td>-0.142184</td>\n",
       "      <td>-0.075218</td>\n",
       "      <td>-0.010091</td>\n",
       "      <td>0.053510</td>\n",
       "      <td>0.116160</td>\n",
       "      <td>0.178607</td>\n",
       "      <td>0.241705</td>\n",
       "      <td>0.306349</td>\n",
       "      <td>0.373406</td>\n",
       "    </tr>\n",
       "    <tr>\n",
       "      <th>4</th>\n",
       "      <td>-0.204034</td>\n",
       "      <td>-0.135486</td>\n",
       "      <td>-0.069613</td>\n",
       "      <td>-0.006376</td>\n",
       "      <td>0.054664</td>\n",
       "      <td>0.114221</td>\n",
       "      <td>0.173183</td>\n",
       "      <td>0.232528</td>\n",
       "      <td>0.293251</td>\n",
       "      <td>0.356305</td>\n",
       "      <td>0.422529</td>\n",
       "    </tr>\n",
       "    <tr>\n",
       "      <th>5</th>\n",
       "      <td>-0.128438</td>\n",
       "      <td>-0.063269</td>\n",
       "      <td>-0.001522</td>\n",
       "      <td>0.057319</td>\n",
       "      <td>0.114079</td>\n",
       "      <td>0.169773</td>\n",
       "      <td>0.225505</td>\n",
       "      <td>0.282389</td>\n",
       "      <td>0.341478</td>\n",
       "      <td>0.403704</td>\n",
       "      <td>0.469814</td>\n",
       "    </tr>\n",
       "    <tr>\n",
       "      <th>6</th>\n",
       "      <td>-0.056850</td>\n",
       "      <td>0.003817</td>\n",
       "      <td>0.060877</td>\n",
       "      <td>0.115222</td>\n",
       "      <td>0.167962</td>\n",
       "      <td>0.220317</td>\n",
       "      <td>0.273522</td>\n",
       "      <td>0.328744</td>\n",
       "      <td>0.387020</td>\n",
       "      <td>0.449199</td>\n",
       "      <td>0.515869</td>\n",
       "    </tr>\n",
       "    <tr>\n",
       "      <th>7</th>\n",
       "      <td>0.009049</td>\n",
       "      <td>0.064755</td>\n",
       "      <td>0.117113</td>\n",
       "      <td>0.167289</td>\n",
       "      <td>0.216590</td>\n",
       "      <td>0.266360</td>\n",
       "      <td>0.317883</td>\n",
       "      <td>0.372313</td>\n",
       "      <td>0.430609</td>\n",
       "      <td>0.493473</td>\n",
       "      <td>0.561285</td>\n",
       "    </tr>\n",
       "    <tr>\n",
       "      <th>8</th>\n",
       "      <td>0.068433</td>\n",
       "      <td>0.119234</td>\n",
       "      <td>0.167275</td>\n",
       "      <td>0.213910</td>\n",
       "      <td>0.260565</td>\n",
       "      <td>0.308631</td>\n",
       "      <td>0.359380</td>\n",
       "      <td>0.413892</td>\n",
       "      <td>0.472988</td>\n",
       "      <td>0.537174</td>\n",
       "      <td>0.606572</td>\n",
       "    </tr>\n",
       "    <tr>\n",
       "      <th>9</th>\n",
       "      <td>0.121133</td>\n",
       "      <td>0.167462</td>\n",
       "      <td>0.211848</td>\n",
       "      <td>0.255763</td>\n",
       "      <td>0.300679</td>\n",
       "      <td>0.347975</td>\n",
       "      <td>0.398855</td>\n",
       "      <td>0.454267</td>\n",
       "      <td>0.514849</td>\n",
       "      <td>0.580858</td>\n",
       "      <td>0.652112</td>\n",
       "    </tr>\n",
       "    <tr>\n",
       "      <th>10</th>\n",
       "      <td>0.167451</td>\n",
       "      <td>0.209994</td>\n",
       "      <td>0.251565</td>\n",
       "      <td>0.293683</td>\n",
       "      <td>0.337813</td>\n",
       "      <td>0.385267</td>\n",
       "      <td>0.437127</td>\n",
       "      <td>0.494165</td>\n",
       "      <td>0.556782</td>\n",
       "      <td>0.624947</td>\n",
       "      <td>0.698128</td>\n",
       "    </tr>\n",
       "  </tbody>\n",
       "</table>\n",
       "</div>"
      ],
      "text/plain": [
       "          0         1         2         3         4         5         6   \\\n",
       "0  -0.478193 -0.423484 -0.361481 -0.294564 -0.224610 -0.153012 -0.080711   \n",
       "1  -0.422947 -0.359123 -0.291522 -0.221948 -0.151654 -0.081407 -0.011565   \n",
       "2  -0.355469 -0.286757 -0.217152 -0.147817 -0.079377 -0.012018  0.054417   \n",
       "3  -0.280954 -0.210939 -0.142184 -0.075218 -0.010091  0.053510  0.116160   \n",
       "4  -0.204034 -0.135486 -0.069613 -0.006376  0.054664  0.114221  0.173183   \n",
       "5  -0.128438 -0.063269 -0.001522  0.057319  0.114079  0.169773  0.225505   \n",
       "6  -0.056850  0.003817  0.060877  0.115222  0.167962  0.220317  0.273522   \n",
       "7   0.009049  0.064755  0.117113  0.167289  0.216590  0.266360  0.317883   \n",
       "8   0.068433  0.119234  0.167275  0.213910  0.260565  0.308631  0.359380   \n",
       "9   0.121133  0.167462  0.211848  0.255763  0.300679  0.347975  0.398855   \n",
       "10  0.167451  0.209994  0.251565  0.293683  0.337813  0.385267  0.437127   \n",
       "\n",
       "          7         8         9         10  \n",
       "0  -0.008241  0.064236  0.136886  0.210136  \n",
       "1   0.057864  0.127159  0.196825  0.267534  \n",
       "2   0.120348  0.186393  0.253301  0.321885  \n",
       "3   0.178607  0.241705  0.306349  0.373406  \n",
       "4   0.232528  0.293251  0.356305  0.422529  \n",
       "5   0.282389  0.341478  0.403704  0.469814  \n",
       "6   0.328744  0.387020  0.449199  0.515869  \n",
       "7   0.372313  0.430609  0.493473  0.561285  \n",
       "8   0.413892  0.472988  0.537174  0.606572  \n",
       "9   0.454267  0.514849  0.580858  0.652112  \n",
       "10  0.494165  0.556782  0.624947  0.698128  "
      ]
     },
     "execution_count": 39,
     "metadata": {},
     "output_type": "execute_result"
    }
   ],
   "source": [
    "data.loc[:10, :10]  # just an example"
   ]
  },
  {
   "cell_type": "code",
   "execution_count": 5,
   "id": "cb62dad8",
   "metadata": {},
   "outputs": [],
   "source": [
    "go.Figure(data =\n",
    "    go.Contour(\n",
    "        z=data.loc[:1000].to_numpy()\n",
    "    )).write_image('images/problem_3_data_example.png')"
   ]
  },
  {
   "cell_type": "markdown",
   "id": "3b4b7a86",
   "metadata": {},
   "source": [
    "![](images/problem_3_data_example.png)"
   ]
  },
  {
   "cell_type": "code",
   "execution_count": 6,
   "id": "58042043",
   "metadata": {},
   "outputs": [],
   "source": [
    "def test_n_components_acc(n, data):\n",
    "    pca = PCA(n_components=n)\n",
    "    reduced_data = pca.fit_transform(data)\n",
    "    aux = pca.inverse_transform(reduced_data)\n",
    "    return mean_absolute_error(data, aux)"
   ]
  },
  {
   "cell_type": "code",
   "execution_count": null,
   "id": "43f839a4",
   "metadata": {},
   "outputs": [
    {
     "name": "stderr",
     "output_type": "stream",
     "text": [
      " 41% (20 of 48) |##########              | Elapsed Time: 0:01:38 ETA:   0:02:27"
     ]
    }
   ],
   "source": [
    "pca_n_acc = []\n",
    "for i in progressbar.progressbar(range(2, 50)):\n",
    "    pca_n_acc.append(test_n_components_acc(i, data))\n",
    "\n",
    "# I started with n_components up to 50 above, but results were bad even for 50, I just extended the test\n",
    "# in order to save time, that's why the X of the chart looks like that\n",
    "\n",
    "for i in progressbar.progressbar(range(50, 200, 10)):\n",
    "    pca_n_acc.append(test_n_components_acc(i, data))"
   ]
  },
  {
   "cell_type": "code",
   "execution_count": null,
   "id": "e0bc2631",
   "metadata": {},
   "outputs": [],
   "source": [
    "px.line(x=[*range(2, 50), *range(50, 200, 10)], y=pca_n_acc,\n",
    "        title='Reduced data difference to real').write_image('images/PCA_components_test.png')"
   ]
  },
  {
   "cell_type": "markdown",
   "id": "7e8a9126",
   "metadata": {},
   "source": [
    "![](images/PCA_components_test.png)"
   ]
  },
  {
   "cell_type": "markdown",
   "id": "ab3ff79b",
   "metadata": {},
   "source": [
    "I'll use 90 as the number of components, that's the first one where the difference to original on return is negligible"
   ]
  },
  {
   "cell_type": "code",
   "execution_count": 5,
   "id": "0ebb5a23",
   "metadata": {},
   "outputs": [],
   "source": [
    "pca = PCA(n_components=90)"
   ]
  },
  {
   "cell_type": "code",
   "execution_count": 6,
   "id": "85a66284",
   "metadata": {},
   "outputs": [
    {
     "name": "stdout",
     "output_type": "stream",
     "text": [
      "CPU times: total: 59.4 s\n",
      "Wall time: 5.52 s\n"
     ]
    }
   ],
   "source": [
    "%%time\n",
    "reduced_data = pca.fit_transform(data)"
   ]
  },
  {
   "cell_type": "code",
   "execution_count": 7,
   "id": "88cc0034",
   "metadata": {},
   "outputs": [
    {
     "data": {
      "text/plain": [
       "0.000681791834736367"
      ]
     },
     "execution_count": 7,
     "metadata": {},
     "output_type": "execute_result"
    }
   ],
   "source": [
    "mean_absolute_error(data, pca.inverse_transform(reduced_data))"
   ]
  },
  {
   "cell_type": "code",
   "execution_count": 8,
   "id": "de23b9f9",
   "metadata": {},
   "outputs": [
    {
     "data": {
      "text/plain": [
       "160000"
      ]
     },
     "execution_count": 8,
     "metadata": {},
     "output_type": "execute_result"
    }
   ],
   "source": [
    "split = 0.8\n",
    "split_point = int(split * len(reduced_data))\n",
    "split_point"
   ]
  },
  {
   "cell_type": "code",
   "execution_count": 9,
   "id": "be54fc61",
   "metadata": {},
   "outputs": [],
   "source": [
    "reduced_data = pd.DataFrame(reduced_data)"
   ]
  },
  {
   "cell_type": "markdown",
   "id": "230c57a7",
   "metadata": {},
   "source": [
    "scale the reduced data"
   ]
  },
  {
   "cell_type": "code",
   "execution_count": 10,
   "id": "d855bbe0",
   "metadata": {},
   "outputs": [],
   "source": [
    "red_scaler = StandardScaler()\n",
    "reduced_data = pd.DataFrame(red_scaler.fit_transform(reduced_data))\n",
    "reduced_data = reduced_data.applymap(lambda n: (n + 1) / 2) # set all values bewteen 0 and 1"
   ]
  },
  {
   "cell_type": "markdown",
   "id": "ab3ac68e",
   "metadata": {},
   "source": [
    "reshape data"
   ]
  },
  {
   "cell_type": "code",
   "execution_count": 11,
   "id": "7e8ed248",
   "metadata": {},
   "outputs": [],
   "source": [
    "sample_size = 1000\n",
    "X, y = [], []\n",
    "for i in range(len(reduced_data) - (sample_size + 1)):\n",
    "    X.append(reduced_data.loc[i:i + sample_size - 1].to_numpy())\n",
    "    y.append(reduced_data.loc[i + sample_size].to_numpy())"
   ]
  },
  {
   "cell_type": "code",
   "execution_count": 12,
   "id": "11ccf8de",
   "metadata": {},
   "outputs": [
    {
     "data": {
      "text/plain": [
       "(198999, 198999)"
      ]
     },
     "execution_count": 12,
     "metadata": {},
     "output_type": "execute_result"
    }
   ],
   "source": [
    "len(X), len(y)"
   ]
  },
  {
   "cell_type": "code",
   "execution_count": 13,
   "id": "1753d358",
   "metadata": {},
   "outputs": [],
   "source": [
    "X_train, X_test, y_train, y_test = train_test_split(X, y, train_size=0.8, random_state=42)"
   ]
  },
  {
   "cell_type": "markdown",
   "id": "7ee08b6e",
   "metadata": {},
   "source": [
    "I want to try a LSTM, gonna start with a relatively tame one"
   ]
  },
  {
   "cell_type": "code",
   "execution_count": 16,
   "id": "9004a60e",
   "metadata": {},
   "outputs": [
    {
     "name": "stdout",
     "output_type": "stream",
     "text": [
      "Model: \"sequential_1\"\n",
      "_________________________________________________________________\n",
      " Layer (type)                Output Shape              Param #   \n",
      "=================================================================\n",
      " lstm_1 (LSTM)               (None, 128)               112128    \n",
      "                                                                 \n",
      " dense_1 (Dense)             (None, 90)                11610     \n",
      "                                                                 \n",
      "=================================================================\n",
      "Total params: 123,738\n",
      "Trainable params: 123,738\n",
      "Non-trainable params: 0\n",
      "_________________________________________________________________\n"
     ]
    }
   ],
   "source": [
    "model = keras.Sequential()\n",
    "model.add(layers.LSTM(128, input_shape=(1000, 90)))\n",
    "model.add(layers.Dense(90))\n",
    "model.compile()\n",
    "model.summary()"
   ]
  },
  {
   "cell_type": "code",
   "execution_count": 17,
   "id": "034942d9",
   "metadata": {},
   "outputs": [
    {
     "ename": "InternalError",
     "evalue": "Failed copying input tensor from /job:localhost/replica:0/task:0/device:CPU:0 to /job:localhost/replica:0/task:0/device:GPU:0 in order to run _EagerConst: Dst tensor is not initialized.",
     "output_type": "error",
     "traceback": [
      "\u001b[1;31m---------------------------------------------------------------------------\u001b[0m",
      "\u001b[1;31mInternalError\u001b[0m                             Traceback (most recent call last)",
      "Input \u001b[1;32mIn [17]\u001b[0m, in \u001b[0;36m<cell line: 1>\u001b[1;34m()\u001b[0m\n\u001b[1;32m----> 1\u001b[0m \u001b[43mmodel\u001b[49m\u001b[38;5;241;43m.\u001b[39;49m\u001b[43mfit\u001b[49m\u001b[43m(\u001b[49m\n\u001b[0;32m      2\u001b[0m \u001b[43m    \u001b[49m\u001b[43mX_train\u001b[49m\u001b[43m,\u001b[49m\u001b[43m \u001b[49m\u001b[43my_train\u001b[49m\u001b[43m,\u001b[49m\u001b[43m \u001b[49m\u001b[43mvalidation_data\u001b[49m\u001b[38;5;241;43m=\u001b[39;49m\u001b[43m(\u001b[49m\u001b[43mX_test\u001b[49m\u001b[43m,\u001b[49m\u001b[43m \u001b[49m\u001b[43my_test\u001b[49m\u001b[43m)\u001b[49m\u001b[43m,\u001b[49m\u001b[43m \u001b[49m\u001b[43mbatch_size\u001b[49m\u001b[38;5;241;43m=\u001b[39;49m\u001b[38;5;241;43m1\u001b[39;49m\u001b[43m,\u001b[49m\u001b[43m \u001b[49m\u001b[43mepochs\u001b[49m\u001b[38;5;241;43m=\u001b[39;49m\u001b[38;5;241;43m1\u001b[39;49m\n\u001b[0;32m      3\u001b[0m \u001b[43m)\u001b[49m\n",
      "File \u001b[1;32m~\\anaconda3\\lib\\site-packages\\keras\\utils\\traceback_utils.py:67\u001b[0m, in \u001b[0;36mfilter_traceback.<locals>.error_handler\u001b[1;34m(*args, **kwargs)\u001b[0m\n\u001b[0;32m     65\u001b[0m \u001b[38;5;28;01mexcept\u001b[39;00m \u001b[38;5;167;01mException\u001b[39;00m \u001b[38;5;28;01mas\u001b[39;00m e:  \u001b[38;5;66;03m# pylint: disable=broad-except\u001b[39;00m\n\u001b[0;32m     66\u001b[0m   filtered_tb \u001b[38;5;241m=\u001b[39m _process_traceback_frames(e\u001b[38;5;241m.\u001b[39m__traceback__)\n\u001b[1;32m---> 67\u001b[0m   \u001b[38;5;28;01mraise\u001b[39;00m e\u001b[38;5;241m.\u001b[39mwith_traceback(filtered_tb) \u001b[38;5;28;01mfrom\u001b[39;00m \u001b[38;5;28mNone\u001b[39m\n\u001b[0;32m     68\u001b[0m \u001b[38;5;28;01mfinally\u001b[39;00m:\n\u001b[0;32m     69\u001b[0m   \u001b[38;5;28;01mdel\u001b[39;00m filtered_tb\n",
      "File \u001b[1;32m~\\anaconda3\\lib\\site-packages\\tensorflow\\python\\framework\\constant_op.py:102\u001b[0m, in \u001b[0;36mconvert_to_eager_tensor\u001b[1;34m(value, ctx, dtype)\u001b[0m\n\u001b[0;32m    100\u001b[0m     dtype \u001b[38;5;241m=\u001b[39m dtypes\u001b[38;5;241m.\u001b[39mas_dtype(dtype)\u001b[38;5;241m.\u001b[39mas_datatype_enum\n\u001b[0;32m    101\u001b[0m ctx\u001b[38;5;241m.\u001b[39mensure_initialized()\n\u001b[1;32m--> 102\u001b[0m \u001b[38;5;28;01mreturn\u001b[39;00m \u001b[43mops\u001b[49m\u001b[38;5;241;43m.\u001b[39;49m\u001b[43mEagerTensor\u001b[49m\u001b[43m(\u001b[49m\u001b[43mvalue\u001b[49m\u001b[43m,\u001b[49m\u001b[43m \u001b[49m\u001b[43mctx\u001b[49m\u001b[38;5;241;43m.\u001b[39;49m\u001b[43mdevice_name\u001b[49m\u001b[43m,\u001b[49m\u001b[43m \u001b[49m\u001b[43mdtype\u001b[49m\u001b[43m)\u001b[49m\n",
      "\u001b[1;31mInternalError\u001b[0m: Failed copying input tensor from /job:localhost/replica:0/task:0/device:CPU:0 to /job:localhost/replica:0/task:0/device:GPU:0 in order to run _EagerConst: Dst tensor is not initialized."
     ]
    }
   ],
   "source": [
    "model.fit(\n",
    "    X_train, y_train, validation_data=(X_test, y_test), batch_size=1, epochs=1\n",
    ")"
   ]
  },
  {
   "cell_type": "markdown",
   "id": "e14e7b9e",
   "metadata": {},
   "source": [
    "So the model is eating my whole vram even with batch_size = 1, there's no way I'm running this. Will change my approach to DeepONets"
   ]
  },
  {
   "cell_type": "markdown",
   "id": "f2d7b73f",
   "metadata": {},
   "source": [
    "---"
   ]
  },
  {
   "cell_type": "code",
   "execution_count": 19,
   "id": "8c4aa155",
   "metadata": {},
   "outputs": [
    {
     "name": "stderr",
     "output_type": "stream",
     "text": [
      "DeepXDE backend not selected or invalid. Use tensorflow.compat.v1.\n",
      "Using backend: tensorflow.compat.v1\n",
      "\n"
     ]
    },
    {
     "name": "stdout",
     "output_type": "stream",
     "text": [
      "Setting the default backend to \"tensorflow.compat.v1\". You can change it in the ~/.deepxde/config.json file or export the DDE_BACKEND environment variable. Valid options are: tensorflow.compat.v1, tensorflow, pytorch, jax, paddle (all lowercase)\n",
      "WARNING:tensorflow:From C:\\Users\\Lucas\\anaconda3\\lib\\site-packages\\tensorflow\\python\\compat\\v2_compat.py:107: disable_resource_variables (from tensorflow.python.ops.variable_scope) is deprecated and will be removed in a future version.\n",
      "Instructions for updating:\n",
      "non-resource variables are not supported in the long term\n",
      "Enable just-in-time compilation with XLA.\n",
      "\n",
      "WARNING:tensorflow:From C:\\Users\\Lucas\\anaconda3\\lib\\site-packages\\deepxde\\nn\\initializers.py:118: The name tf.keras.initializers.he_normal is deprecated. Please use tf.compat.v1.keras.initializers.he_normal instead.\n",
      "\n"
     ]
    }
   ],
   "source": [
    "import deepxde as dde"
   ]
  },
  {
   "cell_type": "code",
   "execution_count": 27,
   "id": "815f0757",
   "metadata": {},
   "outputs": [
    {
     "ename": "ValueError",
     "evalue": "The training dataset does not have the format of Cartesian product.",
     "output_type": "error",
     "traceback": [
      "\u001b[1;31m---------------------------------------------------------------------------\u001b[0m",
      "\u001b[1;31mValueError\u001b[0m                                Traceback (most recent call last)",
      "Input \u001b[1;32mIn [27]\u001b[0m, in \u001b[0;36m<cell line: 1>\u001b[1;34m()\u001b[0m\n\u001b[1;32m----> 1\u001b[0m data \u001b[38;5;241m=\u001b[39m \u001b[43mdde\u001b[49m\u001b[38;5;241;43m.\u001b[39;49m\u001b[43mdata\u001b[49m\u001b[38;5;241;43m.\u001b[39;49m\u001b[43mTripleCartesianProd\u001b[49m\u001b[43m(\u001b[49m\u001b[43mX_train\u001b[49m\u001b[43m,\u001b[49m\u001b[43m \u001b[49m\u001b[43mnp\u001b[49m\u001b[38;5;241;43m.\u001b[39;49m\u001b[43marray\u001b[49m\u001b[43m(\u001b[49m\u001b[43my_train\u001b[49m\u001b[43m)\u001b[49m\u001b[43m,\u001b[49m\u001b[43m \u001b[49m\u001b[43mX_test\u001b[49m\u001b[43m,\u001b[49m\u001b[43m \u001b[49m\u001b[43my_test\u001b[49m\u001b[43m)\u001b[49m\n",
      "File \u001b[1;32m~\\anaconda3\\lib\\site-packages\\deepxde\\data\\triple.py:63\u001b[0m, in \u001b[0;36mTripleCartesianProd.__init__\u001b[1;34m(self, X_train, y_train, X_test, y_test)\u001b[0m\n\u001b[0;32m     61\u001b[0m \u001b[38;5;28;01mdef\u001b[39;00m \u001b[38;5;21m__init__\u001b[39m(\u001b[38;5;28mself\u001b[39m, X_train, y_train, X_test, y_test):\n\u001b[0;32m     62\u001b[0m     \u001b[38;5;28;01mif\u001b[39;00m \u001b[38;5;28mlen\u001b[39m(X_train[\u001b[38;5;241m0\u001b[39m]) \u001b[38;5;241m*\u001b[39m \u001b[38;5;28mlen\u001b[39m(X_train[\u001b[38;5;241m1\u001b[39m]) \u001b[38;5;241m!=\u001b[39m y_train\u001b[38;5;241m.\u001b[39msize:\n\u001b[1;32m---> 63\u001b[0m         \u001b[38;5;28;01mraise\u001b[39;00m \u001b[38;5;167;01mValueError\u001b[39;00m(\n\u001b[0;32m     64\u001b[0m             \u001b[38;5;124m\"\u001b[39m\u001b[38;5;124mThe training dataset does not have the format of Cartesian product.\u001b[39m\u001b[38;5;124m\"\u001b[39m\n\u001b[0;32m     65\u001b[0m         )\n\u001b[0;32m     66\u001b[0m     \u001b[38;5;28;01mif\u001b[39;00m \u001b[38;5;28mlen\u001b[39m(X_test[\u001b[38;5;241m0\u001b[39m]) \u001b[38;5;241m*\u001b[39m \u001b[38;5;28mlen\u001b[39m(X_test[\u001b[38;5;241m1\u001b[39m]) \u001b[38;5;241m!=\u001b[39m y_test\u001b[38;5;241m.\u001b[39msize:\n\u001b[0;32m     67\u001b[0m         \u001b[38;5;28;01mraise\u001b[39;00m \u001b[38;5;167;01mValueError\u001b[39;00m(\n\u001b[0;32m     68\u001b[0m             \u001b[38;5;124m\"\u001b[39m\u001b[38;5;124mThe testing dataset does not have the format of Cartesian product.\u001b[39m\u001b[38;5;124m\"\u001b[39m\n\u001b[0;32m     69\u001b[0m         )\n",
      "\u001b[1;31mValueError\u001b[0m: The training dataset does not have the format of Cartesian product."
     ]
    }
   ],
   "source": [
    "data = dde.data.TripleCartesianProd(X_train, np.array(y_train), X_test, y_test)"
   ]
  },
  {
   "cell_type": "markdown",
   "id": "18accc33",
   "metadata": {},
   "source": [
    "I have no idea what shape is the input expected to be in, [the docs are vague](https://deepxde.readthedocs.io/en/latest/modules/deepxde.data.html#deepxde.data.triple.TripleCartesianProd) and [the examples are no better](https://deepxde.readthedocs.io/en/latest/demos/operator/antiderivative_aligned.html#complete-code)"
   ]
  }
 ],
 "metadata": {
  "kernelspec": {
   "display_name": "Python 3 (ipykernel)",
   "language": "python",
   "name": "python3"
  },
  "language_info": {
   "codemirror_mode": {
    "name": "ipython",
    "version": 3
   },
   "file_extension": ".py",
   "mimetype": "text/x-python",
   "name": "python",
   "nbconvert_exporter": "python",
   "pygments_lexer": "ipython3",
   "version": "3.8.13"
  }
 },
 "nbformat": 4,
 "nbformat_minor": 5
}
