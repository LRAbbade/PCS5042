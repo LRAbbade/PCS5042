{
 "cells": [
  {
   "cell_type": "markdown",
   "id": "a17471b0",
   "metadata": {},
   "source": [
    "> Solve Kuramoto–Sivashinsky with OpInf"
   ]
  },
  {
   "cell_type": "markdown",
   "id": "d84a99c2",
   "metadata": {},
   "source": [
    "<center>$\\large \\frac{\\partial u}{\\partial t}=-v\\frac{\\partial^4 u}{\\partial x^4}-\\frac{\\partial^2 u}{\\partial x^2}-u\\frac{\\partial u}{\\partial x}$</center>"
   ]
  },
  {
   "cell_type": "code",
   "execution_count": null,
   "id": "8e7bc2f2",
   "metadata": {},
   "outputs": [],
   "source": []
  }
 ],
 "metadata": {
  "kernelspec": {
   "display_name": "Python 3 (ipykernel)",
   "language": "python",
   "name": "python3"
  },
  "language_info": {
   "codemirror_mode": {
    "name": "ipython",
    "version": 3
   },
   "file_extension": ".py",
   "mimetype": "text/x-python",
   "name": "python",
   "nbconvert_exporter": "python",
   "pygments_lexer": "ipython3",
   "version": "3.9.13"
  }
 },
 "nbformat": 4,
 "nbformat_minor": 5
}
