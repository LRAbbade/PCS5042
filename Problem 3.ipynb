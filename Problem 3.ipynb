{
 "cells": [
  {
   "cell_type": "markdown",
   "id": "a17471b0",
   "metadata": {},
   "source": [
    "> Solve Kuramoto–Sivashinsky with OpInf"
   ]
  },
  {
   "cell_type": "markdown",
   "id": "d84a99c2",
   "metadata": {},
   "source": [
    "<center>$\\large \\frac{\\partial u}{\\partial t}=-v\\frac{\\partial^4 u}{\\partial x^4}-\\frac{\\partial^2 u}{\\partial x^2}-u\\frac{\\partial u}{\\partial x}$</center>"
   ]
  },
  {
   "cell_type": "code",
   "execution_count": null,
   "id": "4db2805d",
   "metadata": {},
   "outputs": [],
   "source": [
    "import pandas as pd\n",
    "import numpy as np\n",
    "from sklearn.decomposition import PCA\n",
    "from sklearn.preprocessing import StandardScaler\n",
    "import plotly.graph_objects as go\n",
    "import plotly.express as px\n",
    "import progressbar\n",
    "from sklearn.metrics import mean_absolute_error\n",
    "import tensorflow as tf\n",
    "from tensorflow import keras\n",
    "from tensorflow.keras import layers\n",
    "\n",
    "%matplotlib inline"
   ]
  },
  {
   "cell_type": "code",
   "execution_count": 16,
   "id": "8e7bc2f2",
   "metadata": {},
   "outputs": [],
   "source": [
    "data = pd.read_parquet('Data/KS_data.parquet')"
   ]
  },
  {
   "cell_type": "markdown",
   "id": "0e622e10",
   "metadata": {},
   "source": [
    "Scaling the data or PCA won't work"
   ]
  },
  {
   "cell_type": "code",
   "execution_count": 50,
   "id": "22cf7bf9",
   "metadata": {},
   "outputs": [],
   "source": [
    "scaler = StandardScaler()\n",
    "data = pd.DataFrame(scaler.fit_transform(data))\n",
    "data = data.applymap(lambda n: (n + 1) / 2) # set all values bewteen 0 and 1"
   ]
  },
  {
   "cell_type": "code",
   "execution_count": 51,
   "id": "7287ebe1",
   "metadata": {},
   "outputs": [
    {
     "data": {
      "text/html": [
       "<div>\n",
       "<style scoped>\n",
       "    .dataframe tbody tr th:only-of-type {\n",
       "        vertical-align: middle;\n",
       "    }\n",
       "\n",
       "    .dataframe tbody tr th {\n",
       "        vertical-align: top;\n",
       "    }\n",
       "\n",
       "    .dataframe thead th {\n",
       "        text-align: right;\n",
       "    }\n",
       "</style>\n",
       "<table border=\"1\" class=\"dataframe\">\n",
       "  <thead>\n",
       "    <tr style=\"text-align: right;\">\n",
       "      <th></th>\n",
       "      <th>0</th>\n",
       "      <th>1</th>\n",
       "      <th>2</th>\n",
       "      <th>3</th>\n",
       "      <th>4</th>\n",
       "      <th>5</th>\n",
       "      <th>6</th>\n",
       "      <th>7</th>\n",
       "      <th>8</th>\n",
       "      <th>9</th>\n",
       "      <th>...</th>\n",
       "      <th>502</th>\n",
       "      <th>503</th>\n",
       "      <th>504</th>\n",
       "      <th>505</th>\n",
       "      <th>506</th>\n",
       "      <th>507</th>\n",
       "      <th>508</th>\n",
       "      <th>509</th>\n",
       "      <th>510</th>\n",
       "      <th>511</th>\n",
       "    </tr>\n",
       "  </thead>\n",
       "  <tbody>\n",
       "    <tr>\n",
       "      <th>0</th>\n",
       "      <td>1.086332</td>\n",
       "      <td>1.008951</td>\n",
       "      <td>0.907741</td>\n",
       "      <td>0.785517</td>\n",
       "      <td>0.646871</td>\n",
       "      <td>0.497906</td>\n",
       "      <td>0.345701</td>\n",
       "      <td>0.197604</td>\n",
       "      <td>0.060495</td>\n",
       "      <td>-0.059843</td>\n",
       "      <td>...</td>\n",
       "      <td>0.817203</td>\n",
       "      <td>0.890230</td>\n",
       "      <td>0.959843</td>\n",
       "      <td>1.024059</td>\n",
       "      <td>1.080416</td>\n",
       "      <td>1.126043</td>\n",
       "      <td>1.157792</td>\n",
       "      <td>1.172447</td>\n",
       "      <td>1.166977</td>\n",
       "      <td>1.138841</td>\n",
       "    </tr>\n",
       "    <tr>\n",
       "      <th>1</th>\n",
       "      <td>1.102401</td>\n",
       "      <td>1.016629</td>\n",
       "      <td>0.905838</td>\n",
       "      <td>0.773563</td>\n",
       "      <td>0.625210</td>\n",
       "      <td>0.467698</td>\n",
       "      <td>0.308820</td>\n",
       "      <td>0.156440</td>\n",
       "      <td>0.017699</td>\n",
       "      <td>-0.101629</td>\n",
       "      <td>...</td>\n",
       "      <td>0.808442</td>\n",
       "      <td>0.890840</td>\n",
       "      <td>0.969035</td>\n",
       "      <td>1.040722</td>\n",
       "      <td>1.103125</td>\n",
       "      <td>1.153067</td>\n",
       "      <td>1.187132</td>\n",
       "      <td>1.201894</td>\n",
       "      <td>1.194207</td>\n",
       "      <td>1.161550</td>\n",
       "    </tr>\n",
       "    <tr>\n",
       "      <th>2</th>\n",
       "      <td>1.115235</td>\n",
       "      <td>1.022688</td>\n",
       "      <td>0.904017</td>\n",
       "      <td>0.763395</td>\n",
       "      <td>0.606954</td>\n",
       "      <td>0.442339</td>\n",
       "      <td>0.277969</td>\n",
       "      <td>0.122162</td>\n",
       "      <td>-0.017719</td>\n",
       "      <td>-0.135917</td>\n",
       "      <td>...</td>\n",
       "      <td>0.791687</td>\n",
       "      <td>0.882939</td>\n",
       "      <td>0.969408</td>\n",
       "      <td>1.048471</td>\n",
       "      <td>1.117039</td>\n",
       "      <td>1.171645</td>\n",
       "      <td>1.208608</td>\n",
       "      <td>1.224298</td>\n",
       "      <td>1.215454</td>\n",
       "      <td>1.179555</td>\n",
       "    </tr>\n",
       "    <tr>\n",
       "      <th>3</th>\n",
       "      <td>1.123548</td>\n",
       "      <td>1.026011</td>\n",
       "      <td>0.901386</td>\n",
       "      <td>0.754386</td>\n",
       "      <td>0.591750</td>\n",
       "      <td>0.421725</td>\n",
       "      <td>0.253252</td>\n",
       "      <td>0.095019</td>\n",
       "      <td>-0.045433</td>\n",
       "      <td>-0.162370</td>\n",
       "      <td>...</td>\n",
       "      <td>0.767628</td>\n",
       "      <td>0.866851</td>\n",
       "      <td>0.960939</td>\n",
       "      <td>1.046950</td>\n",
       "      <td>1.121501</td>\n",
       "      <td>1.180848</td>\n",
       "      <td>1.221073</td>\n",
       "      <td>1.238359</td>\n",
       "      <td>1.229335</td>\n",
       "      <td>1.191479</td>\n",
       "    </tr>\n",
       "    <tr>\n",
       "      <th>4</th>\n",
       "      <td>1.126147</td>\n",
       "      <td>1.025440</td>\n",
       "      <td>0.896885</td>\n",
       "      <td>0.745615</td>\n",
       "      <td>0.578839</td>\n",
       "      <td>0.405267</td>\n",
       "      <td>0.234235</td>\n",
       "      <td>0.074703</td>\n",
       "      <td>-0.065662</td>\n",
       "      <td>-0.181153</td>\n",
       "      <td>...</td>\n",
       "      <td>0.737347</td>\n",
       "      <td>0.843317</td>\n",
       "      <td>0.944042</td>\n",
       "      <td>1.036263</td>\n",
       "      <td>1.116316</td>\n",
       "      <td>1.180209</td>\n",
       "      <td>1.223815</td>\n",
       "      <td>1.243159</td>\n",
       "      <td>1.234780</td>\n",
       "      <td>1.196156</td>\n",
       "    </tr>\n",
       "    <tr>\n",
       "      <th>...</th>\n",
       "      <td>...</td>\n",
       "      <td>...</td>\n",
       "      <td>...</td>\n",
       "      <td>...</td>\n",
       "      <td>...</td>\n",
       "      <td>...</td>\n",
       "      <td>...</td>\n",
       "      <td>...</td>\n",
       "      <td>...</td>\n",
       "      <td>...</td>\n",
       "      <td>...</td>\n",
       "      <td>...</td>\n",
       "      <td>...</td>\n",
       "      <td>...</td>\n",
       "      <td>...</td>\n",
       "      <td>...</td>\n",
       "      <td>...</td>\n",
       "      <td>...</td>\n",
       "      <td>...</td>\n",
       "      <td>...</td>\n",
       "      <td>...</td>\n",
       "    </tr>\n",
       "    <tr>\n",
       "      <th>199995</th>\n",
       "      <td>0.435963</td>\n",
       "      <td>0.503350</td>\n",
       "      <td>0.576707</td>\n",
       "      <td>0.654439</td>\n",
       "      <td>0.734518</td>\n",
       "      <td>0.814456</td>\n",
       "      <td>0.891318</td>\n",
       "      <td>0.961761</td>\n",
       "      <td>1.022111</td>\n",
       "      <td>1.068484</td>\n",
       "      <td>...</td>\n",
       "      <td>0.234105</td>\n",
       "      <td>0.216394</td>\n",
       "      <td>0.205251</td>\n",
       "      <td>0.201930</td>\n",
       "      <td>0.207361</td>\n",
       "      <td>0.222132</td>\n",
       "      <td>0.246507</td>\n",
       "      <td>0.280458</td>\n",
       "      <td>0.323709</td>\n",
       "      <td>0.375774</td>\n",
       "    </tr>\n",
       "    <tr>\n",
       "      <th>199996</th>\n",
       "      <td>0.451071</td>\n",
       "      <td>0.519879</td>\n",
       "      <td>0.594218</td>\n",
       "      <td>0.672369</td>\n",
       "      <td>0.752169</td>\n",
       "      <td>0.830990</td>\n",
       "      <td>0.905756</td>\n",
       "      <td>0.973009</td>\n",
       "      <td>1.029001</td>\n",
       "      <td>1.069837</td>\n",
       "      <td>...</td>\n",
       "      <td>0.227525</td>\n",
       "      <td>0.211700</td>\n",
       "      <td>0.202655</td>\n",
       "      <td>0.201592</td>\n",
       "      <td>0.209381</td>\n",
       "      <td>0.226554</td>\n",
       "      <td>0.253319</td>\n",
       "      <td>0.289592</td>\n",
       "      <td>0.335041</td>\n",
       "      <td>0.389121</td>\n",
       "    </tr>\n",
       "    <tr>\n",
       "      <th>199997</th>\n",
       "      <td>0.468162</td>\n",
       "      <td>0.538240</td>\n",
       "      <td>0.613345</td>\n",
       "      <td>0.691633</td>\n",
       "      <td>0.770798</td>\n",
       "      <td>0.848067</td>\n",
       "      <td>0.920231</td>\n",
       "      <td>0.983722</td>\n",
       "      <td>1.034738</td>\n",
       "      <td>1.069406</td>\n",
       "      <td>...</td>\n",
       "      <td>0.221732</td>\n",
       "      <td>0.208116</td>\n",
       "      <td>0.201456</td>\n",
       "      <td>0.202891</td>\n",
       "      <td>0.213233</td>\n",
       "      <td>0.232954</td>\n",
       "      <td>0.262206</td>\n",
       "      <td>0.300851</td>\n",
       "      <td>0.348501</td>\n",
       "      <td>0.404549</td>\n",
       "    </tr>\n",
       "    <tr>\n",
       "      <th>199998</th>\n",
       "      <td>0.487219</td>\n",
       "      <td>0.558379</td>\n",
       "      <td>0.634000</td>\n",
       "      <td>0.712101</td>\n",
       "      <td>0.790231</td>\n",
       "      <td>0.865468</td>\n",
       "      <td>0.934474</td>\n",
       "      <td>0.993589</td>\n",
       "      <td>1.038978</td>\n",
       "      <td>1.066827</td>\n",
       "      <td>...</td>\n",
       "      <td>0.216996</td>\n",
       "      <td>0.205891</td>\n",
       "      <td>0.201873</td>\n",
       "      <td>0.206018</td>\n",
       "      <td>0.219075</td>\n",
       "      <td>0.241460</td>\n",
       "      <td>0.273266</td>\n",
       "      <td>0.314303</td>\n",
       "      <td>0.364128</td>\n",
       "      <td>0.422070</td>\n",
       "    </tr>\n",
       "    <tr>\n",
       "      <th>199999</th>\n",
       "      <td>0.508202</td>\n",
       "      <td>0.580224</td>\n",
       "      <td>0.656068</td>\n",
       "      <td>0.733614</td>\n",
       "      <td>0.810259</td>\n",
       "      <td>0.882934</td>\n",
       "      <td>0.948180</td>\n",
       "      <td>1.002261</td>\n",
       "      <td>1.041345</td>\n",
       "      <td>1.061714</td>\n",
       "      <td>...</td>\n",
       "      <td>0.213594</td>\n",
       "      <td>0.205274</td>\n",
       "      <td>0.204125</td>\n",
       "      <td>0.211158</td>\n",
       "      <td>0.227061</td>\n",
       "      <td>0.252190</td>\n",
       "      <td>0.286587</td>\n",
       "      <td>0.330007</td>\n",
       "      <td>0.381949</td>\n",
       "      <td>0.441678</td>\n",
       "    </tr>\n",
       "  </tbody>\n",
       "</table>\n",
       "<p>200000 rows × 512 columns</p>\n",
       "</div>"
      ],
      "text/plain": [
       "             0         1         2         3         4         5         6    \\\n",
       "0       1.086332  1.008951  0.907741  0.785517  0.646871  0.497906  0.345701   \n",
       "1       1.102401  1.016629  0.905838  0.773563  0.625210  0.467698  0.308820   \n",
       "2       1.115235  1.022688  0.904017  0.763395  0.606954  0.442339  0.277969   \n",
       "3       1.123548  1.026011  0.901386  0.754386  0.591750  0.421725  0.253252   \n",
       "4       1.126147  1.025440  0.896885  0.745615  0.578839  0.405267  0.234235   \n",
       "...          ...       ...       ...       ...       ...       ...       ...   \n",
       "199995  0.435963  0.503350  0.576707  0.654439  0.734518  0.814456  0.891318   \n",
       "199996  0.451071  0.519879  0.594218  0.672369  0.752169  0.830990  0.905756   \n",
       "199997  0.468162  0.538240  0.613345  0.691633  0.770798  0.848067  0.920231   \n",
       "199998  0.487219  0.558379  0.634000  0.712101  0.790231  0.865468  0.934474   \n",
       "199999  0.508202  0.580224  0.656068  0.733614  0.810259  0.882934  0.948180   \n",
       "\n",
       "             7         8         9    ...       502       503       504  \\\n",
       "0       0.197604  0.060495 -0.059843  ...  0.817203  0.890230  0.959843   \n",
       "1       0.156440  0.017699 -0.101629  ...  0.808442  0.890840  0.969035   \n",
       "2       0.122162 -0.017719 -0.135917  ...  0.791687  0.882939  0.969408   \n",
       "3       0.095019 -0.045433 -0.162370  ...  0.767628  0.866851  0.960939   \n",
       "4       0.074703 -0.065662 -0.181153  ...  0.737347  0.843317  0.944042   \n",
       "...          ...       ...       ...  ...       ...       ...       ...   \n",
       "199995  0.961761  1.022111  1.068484  ...  0.234105  0.216394  0.205251   \n",
       "199996  0.973009  1.029001  1.069837  ...  0.227525  0.211700  0.202655   \n",
       "199997  0.983722  1.034738  1.069406  ...  0.221732  0.208116  0.201456   \n",
       "199998  0.993589  1.038978  1.066827  ...  0.216996  0.205891  0.201873   \n",
       "199999  1.002261  1.041345  1.061714  ...  0.213594  0.205274  0.204125   \n",
       "\n",
       "             505       506       507       508       509       510       511  \n",
       "0       1.024059  1.080416  1.126043  1.157792  1.172447  1.166977  1.138841  \n",
       "1       1.040722  1.103125  1.153067  1.187132  1.201894  1.194207  1.161550  \n",
       "2       1.048471  1.117039  1.171645  1.208608  1.224298  1.215454  1.179555  \n",
       "3       1.046950  1.121501  1.180848  1.221073  1.238359  1.229335  1.191479  \n",
       "4       1.036263  1.116316  1.180209  1.223815  1.243159  1.234780  1.196156  \n",
       "...          ...       ...       ...       ...       ...       ...       ...  \n",
       "199995  0.201930  0.207361  0.222132  0.246507  0.280458  0.323709  0.375774  \n",
       "199996  0.201592  0.209381  0.226554  0.253319  0.289592  0.335041  0.389121  \n",
       "199997  0.202891  0.213233  0.232954  0.262206  0.300851  0.348501  0.404549  \n",
       "199998  0.206018  0.219075  0.241460  0.273266  0.314303  0.364128  0.422070  \n",
       "199999  0.211158  0.227061  0.252190  0.286587  0.330007  0.381949  0.441678  \n",
       "\n",
       "[200000 rows x 512 columns]"
      ]
     },
     "execution_count": 51,
     "metadata": {},
     "output_type": "execute_result"
    }
   ],
   "source": [
    "data"
   ]
  },
  {
   "cell_type": "code",
   "execution_count": 52,
   "id": "cb62dad8",
   "metadata": {},
   "outputs": [],
   "source": [
    "go.Figure(data =\n",
    "    go.Contour(\n",
    "        z=data.loc[:1000].to_numpy()\n",
    "    )).write_image('images/problem_3_data_example.png')"
   ]
  },
  {
   "cell_type": "markdown",
   "id": "3b4b7a86",
   "metadata": {},
   "source": [
    "![](images/problem_3_data_example.png)"
   ]
  },
  {
   "cell_type": "code",
   "execution_count": 94,
   "id": "58042043",
   "metadata": {},
   "outputs": [],
   "source": [
    "def test_n_components_acc(n, data):\n",
    "    pca = PCA(n_components=n)\n",
    "    reduced_data = pca.fit_transform(data)\n",
    "    aux = pca.inverse_transform(reduced_data)\n",
    "    return mean_absolute_error(data, aux)"
   ]
  },
  {
   "cell_type": "code",
   "execution_count": 97,
   "id": "43f839a4",
   "metadata": {},
   "outputs": [
    {
     "name": "stderr",
     "output_type": "stream",
     "text": [
      "100% (15 of 15) |########################| Elapsed Time: 0:01:44 Time:  0:01:44\n"
     ]
    }
   ],
   "source": [
    "pca_n_acc = []\n",
    "for i in progressbar.progressbar(range(2, 50)):\n",
    "    pca_n_acc.append(test_n_components_acc(i, data))\n",
    "\n",
    "# I started with n_components up to 50 above, but results were bad even for 50, I just extended the test\n",
    "# in order to save time, that's why the X of the chart looks like that\n",
    "\n",
    "for i in progressbar.progressbar(range(50, 200, 10)):\n",
    "    pca_n_acc.append(test_n_components_acc(i, data))"
   ]
  },
  {
   "cell_type": "code",
   "execution_count": 100,
   "id": "e0bc2631",
   "metadata": {},
   "outputs": [],
   "source": [
    "px.line(x=[*range(2, 50), *range(50, 200, 10)], y=pca_n_acc,\n",
    "        title='Reduced data difference to real').write_image('images/PCA_components_test.png')"
   ]
  },
  {
   "cell_type": "markdown",
   "id": "7e8a9126",
   "metadata": {},
   "source": [
    "![](images/PCA_components_test.png)"
   ]
  },
  {
   "cell_type": "markdown",
   "id": "ab3ff79b",
   "metadata": {},
   "source": [
    "I'll use 90 as the number of components, that's the first one where the difference to original on return is negligible"
   ]
  },
  {
   "cell_type": "code",
   "execution_count": 101,
   "id": "0ebb5a23",
   "metadata": {},
   "outputs": [],
   "source": [
    "pca = PCA(n_components=90)"
   ]
  },
  {
   "cell_type": "code",
   "execution_count": 102,
   "id": "85a66284",
   "metadata": {},
   "outputs": [
    {
     "name": "stdout",
     "output_type": "stream",
     "text": [
      "CPU times: user 20.9 s, sys: 4.37 s, total: 25.3 s\n",
      "Wall time: 3.86 s\n"
     ]
    }
   ],
   "source": [
    "%%time\n",
    "reduced_data = pca.fit_transform(data)"
   ]
  },
  {
   "cell_type": "code",
   "execution_count": 107,
   "id": "88cc0034",
   "metadata": {},
   "outputs": [
    {
     "data": {
      "text/plain": [
       "0.0006814402173735035"
      ]
     },
     "execution_count": 107,
     "metadata": {},
     "output_type": "execute_result"
    }
   ],
   "source": [
    "mean_absolute_error(data, pca.inverse_transform(reduced_data))"
   ]
  },
  {
   "cell_type": "code",
   "execution_count": 108,
   "id": "de23b9f9",
   "metadata": {},
   "outputs": [
    {
     "data": {
      "text/plain": [
       "160000"
      ]
     },
     "execution_count": 108,
     "metadata": {},
     "output_type": "execute_result"
    }
   ],
   "source": [
    "split = 0.8\n",
    "split_point = int(split * len(reduced_data))\n",
    "split_point"
   ]
  },
  {
   "cell_type": "code",
   "execution_count": 111,
   "id": "be54fc61",
   "metadata": {},
   "outputs": [],
   "source": [
    "reduced_data = pd.DataFrame(reduced_data)"
   ]
  },
  {
   "cell_type": "code",
   "execution_count": 113,
   "id": "fd36c623",
   "metadata": {},
   "outputs": [],
   "source": [
    "X, y = reduced_data.loc[:split_point], reduced_data.loc[split_point:]"
   ]
  },
  {
   "cell_type": "code",
   "execution_count": null,
   "id": "9004a60e",
   "metadata": {},
   "outputs": [],
   "source": []
  }
 ],
 "metadata": {
  "kernelspec": {
   "display_name": "Python 3 (ipykernel)",
   "language": "python",
   "name": "python3"
  },
  "language_info": {
   "codemirror_mode": {
    "name": "ipython",
    "version": 3
   },
   "file_extension": ".py",
   "mimetype": "text/x-python",
   "name": "python",
   "nbconvert_exporter": "python",
   "pygments_lexer": "ipython3",
   "version": "3.9.13"
  }
 },
 "nbformat": 4,
 "nbformat_minor": 5
}
